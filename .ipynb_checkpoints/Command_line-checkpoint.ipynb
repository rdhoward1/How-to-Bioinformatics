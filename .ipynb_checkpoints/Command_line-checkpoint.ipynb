{
 "cells": [
  {
   "cell_type": "markdown",
   "id": "358ea6f9-9161-4d12-b878-21e2611890e6",
   "metadata": {},
   "source": [
    "# Getting started with the command line/terminal\n",
    "Command line is a powerful way to navigate and create files/directories. Here, I overview basic commands for navigating unix/linux systems from command line interface (CLI) as opposed to graphical user interfaces (GUIs). The commands can be run directly in this notebook by pressing the play button (sideways triangle) at the top of the page, or by clicking \"run selected cells\" under the run menu, or by pressing CTRL + ENTER for the selected cell.\n",
    "## Understanding Computer File Systems\n",
    "\n",
    "### Navigating your directories ```cd```,```pwd```\n",
    "\n",
    "Think of your computer's file system as a large library:\n",
    "\n",
    "1. **Files**: These are like individual books. Examples include \"metadata.csv\" or files ending with \".fasta\".\n",
    "\n",
    "2. **Directories (Folders)**: These are similar to shelves or sections in the library. For instance, a folder titled \"analysis\" on your Desktop.\n",
    "\n",
    "3. **Pathways**: These are like the directions to find a specific book in the library.\n",
    "\n",
    "### File System Structure\n",
    "\n",
    "Imagine your computer's storage as a tree:\n",
    "\n",
    "- The root (/) is the base of the tree.\n",
    "- Branches are directories (folders).\n",
    "- Leaves are files.\n",
    "\n",
    "Let's say:\n",
    "\n",
    "1. You have a folder called \"analysis\" on your Desktop.\n",
    "2. Inside this folder, you have:\n",
    "   - A file named \"metadata.csv\"\n",
    "   - Multiple files ending with \".fasta\"\n",
    "\n",
    "The pathway is like an address for files and folders:\n",
    "\n",
    "- Full pathway example: /Users/YourUsername/Desktop/analysis/\n",
    "- Shortcut notation: ~/Desktop/analysis/\n",
    "  (where ~ represents your home directory)\n",
    "\n",
    "### Navigating in Terminal\n",
    "\n",
    "When you open the terminal, it's like you've just entered the library. To work with your files:\n",
    "\n",
    "1. You need to tell the computer which \"shelf\" (directory) to look at.\n",
    "2. You do this by navigating to the correct pathway.\n",
    "3. Use commands like `cd` (change directory) to move to the right location.\n",
    "\n",
    "Let's try it out below.\n"
   ]
  },
  {
   "cell_type": "code",
   "execution_count": null,
   "id": "e3668eb3-296c-4612-9e92-2775d8da5194",
   "metadata": {},
   "outputs": [],
   "source": [
    "cd ~/unix_intro/"
   ]
  },
  {
   "cell_type": "markdown",
   "id": "5ee381e5-2dd8-4418-9927-cba52ec19f60",
   "metadata": {},
   "source": [
    "This is equivalent to saying, \"Take me to the 'unix_intro' shelf in the folder 'jovyan' on the home directory in this Jupyter Notebook.\"\n",
    "\n",
    "### The 'unix_intro' folder is now your *working directory*. **What is a working directory?**\n",
    "A working directory is the folder on a drive where you're actively storing and accessing data for a specific project or analysis. Think of it as the current location or folder your computer is focused on. \n",
    "\n",
    "How do we make sure that we are in the right directory? We can use the ```pwd``` command."
   ]
  },
  {
   "cell_type": "code",
   "execution_count": null,
   "id": "3bc7f979-9cf9-455c-8162-e10931723fa3",
   "metadata": {},
   "outputs": [],
   "source": [
    "pwd"
   ]
  },
  {
   "cell_type": "markdown",
   "id": "e31261ee-002e-46a8-8f3f-6038c5ba4237",
   "metadata": {},
   "source": [
    "You'll see that the **p**rint **w**orking **d**irectory command (```pwd```) gives us the entire pathway name for our working directory. "
   ]
  },
  {
   "cell_type": "markdown",
   "id": "8fd6372a-2794-4cf8-a2fb-25da06342457",
   "metadata": {},
   "source": [
    "**So what should we do if we want to go up one directory, or in this case, if we went to go back to the directory 'jovyan'?**\n",
    "* ```cd ..``` change directory to parent directory:\n",
    "This command moves you up one level in the directory structure, to the parent directory. It's commonly used to navigate back to the previous directory level.\n",
    "For example, if you're in /home/user/documents, using ```cd ..``` will take you to /home/user\n",
    "Let's try it here:"
   ]
  },
  {
   "cell_type": "code",
   "execution_count": null,
   "id": "194829c1-d64c-4f5f-a7d2-1a6b704313a2",
   "metadata": {},
   "outputs": [],
   "source": [
    "cd .."
   ]
  },
  {
   "cell_type": "markdown",
   "id": "6d977963-e74a-4e03-9073-1a7c28135f8d",
   "metadata": {},
   "source": [
    "You'll see it has moved us back up to the parent directory. \n",
    "### Learning to navigate your files, directories, and pathways is the fundamental beginning to computer science and bioinformatics. You can't run code to manipulate your data if you can't get to where you're working!\n",
    "**Great job! You've nailed it! Let's look at some other commands to help navigate your files on the CLI.** "
   ]
  },
  {
   "cell_type": "markdown",
   "id": "990ea083-52bd-4259-b4f3-b37a6dd7cd03",
   "metadata": {},
   "source": [
    "### **L**i**s**ting the contents of my directories ```ls```\n",
    "The ```ls``` command, when used without any options, simply lists the files and directories in the current working directory. Normally this is in alphabetical order. Let's take a look with the 'How-to-Bioinformatics' directory. "
   ]
  },
  {
   "cell_type": "code",
   "execution_count": null,
   "id": "7540ef59-9dbb-4659-a495-76b99cd0fb31",
   "metadata": {},
   "outputs": [],
   "source": [
    "pwd"
   ]
  },
  {
   "cell_type": "code",
   "execution_count": null,
   "id": "b67424ed-7adc-41f3-8920-45d841051e71",
   "metadata": {},
   "outputs": [],
   "source": [
    "ls"
   ]
  },
  {
   "cell_type": "markdown",
   "id": "dc86a10b-1838-4ebb-8dab-5d62077a36cd",
   "metadata": {},
   "source": [
    "Here, we are seeing that we have two items in our directory. One is this kernel that we are currently working in (Command_line.ipynb). We also have our 'unix_intro' directory. We can tell this is a directory because is has a root '/' next to it and it is highlighted blue. \n",
    "Let's say I want to see the files inside my 'unix_intro' directory. We would run:"
   ]
  },
  {
   "cell_type": "code",
   "execution_count": null,
   "id": "e9f93022-f81f-411a-ac19-f03a97a29374",
   "metadata": {},
   "outputs": [],
   "source": [
    "cd ~/unix_intro/"
   ]
  },
  {
   "cell_type": "code",
   "execution_count": null,
   "id": "b793046b-3560-4c08-b90e-28db4f0434a2",
   "metadata": {},
   "outputs": [],
   "source": [
    "ls"
   ]
  },
  {
   "cell_type": "markdown",
   "id": "c16f349b-ac20-46cb-aceb-d3f4d3975ea9",
   "metadata": {},
   "source": [
    "Let's take a look at what is in our 'six_commands' directory. "
   ]
  },
  {
   "cell_type": "code",
   "execution_count": null,
   "id": "a705e9f2-168f-4c15-908f-4e23c6e818d7",
   "metadata": {},
   "outputs": [],
   "source": [
    "cd ~/unix_intro/six_commands/"
   ]
  },
  {
   "cell_type": "code",
   "execution_count": null,
   "id": "3464c4fe-9d79-4baa-920a-1b9763a546b3",
   "metadata": {},
   "outputs": [],
   "source": [
    "ls"
   ]
  },
  {
   "cell_type": "markdown",
   "id": "775dbd29-b4fe-40fb-adc1-dd25124bdb7b",
   "metadata": {},
   "source": [
    "Awesome work! Now, the general syntax working at the command line goes like this: ```command argument```. When we use a ```command```, the following ```argument``` (which can also be referred to as “flags” or “options” or “parameters”) can be optional or required based on the command being used.\n",
    "\n",
    "**Let's try it with the ```ls``` command.**"
   ]
  },
  {
   "cell_type": "markdown",
   "id": "e9327778-f48b-4d26-bb88-5842a851f9a5",
   "metadata": {},
   "source": [
    "First, I want to make sure I'm in the correct working directory. For these purposes, I think being in the ~/six_commands/ directory is the best. "
   ]
  },
  {
   "cell_type": "code",
   "execution_count": null,
   "id": "5c90786b-3c90-4f61-a63a-240762e90e10",
   "metadata": {},
   "outputs": [],
   "source": [
    "pwd"
   ]
  },
  {
   "cell_type": "markdown",
   "id": "b1b8d5d2-5e55-4dae-81ad-35dad002ca64",
   "metadata": {},
   "source": [
    "We are already here! Now let's say I want to look at my files with some more details, including **content permissions, owner, group owner, size (in Bytes), date last modified, and name** (we call this *long format*). To do this, we would run:"
   ]
  },
  {
   "cell_type": "code",
   "execution_count": null,
   "id": "6b36d6c4-fc15-4598-af2f-0006961d49f9",
   "metadata": {},
   "outputs": [],
   "source": [
    "ls -l"
   ]
  },
  {
   "cell_type": "markdown",
   "id": "dc695c2e-a407-40d0-81aa-5a9afcf69683",
   "metadata": {},
   "source": [
    "So now we see all the details of the files in the ~/six_commands directory. But what if I want to list out my files in another working directory? *We can use the whole path name with the ```ls``` command to do that.*"
   ]
  },
  {
   "cell_type": "code",
   "execution_count": null,
   "id": "acd05bb6-3ce9-4120-aca0-89bec4775cd5",
   "metadata": {},
   "outputs": [],
   "source": [
    "pwd"
   ]
  },
  {
   "cell_type": "markdown",
   "id": "33e04b0e-49e9-4f24-826c-998f379a88cc",
   "metadata": {},
   "source": [
    "We see that we are still in our ~/six_commands directory. I want to look at the **long format of my files in the ~/data/all_samples directory.**"
   ]
  },
  {
   "cell_type": "code",
   "execution_count": null,
   "id": "67394a61-e028-49f1-bd75-ea40d6ab0a2e",
   "metadata": {},
   "outputs": [],
   "source": [
    "ls -l /home/jovyan/unix_intro/data/all_samples/"
   ]
  },
  {
   "cell_type": "markdown",
   "id": "bf2e6578-a8ac-451d-9505-4de873a6baab",
   "metadata": {
    "collapsed": true,
    "jupyter": {
     "outputs_hidden": true
    }
   },
   "source": [
    "Great. See how we were in a different directory, but we could still list out all the files in the ~/unix_intro/all_samples folder by listing out the whole path name? You can use the majority of basic commands in a similar way. "
   ]
  },
  {
   "cell_type": "markdown",
   "id": "105d78fe-58a5-46fd-98df-e46950cc1a89",
   "metadata": {},
   "source": [
    "#### There are many different flags you can use with the ```ls``` command. Let's use the help flag to look at them all."
   ]
  },
  {
   "cell_type": "code",
   "execution_count": null,
   "id": "956902fa-6e77-4c4f-b6a8-2bb427bbfeaf",
   "metadata": {},
   "outputs": [],
   "source": [
    "ls --help"
   ]
  },
  {
   "cell_type": "markdown",
   "id": "c4035526-1bdf-4fff-b74c-883798961f8d",
   "metadata": {},
   "source": [
    "**In my opinion, some of the more important flags are:**"
   ]
  },
  {
   "cell_type": "markdown",
   "id": "0af996ee-c931-462c-81f4-1ab151b59812",
   "metadata": {},
   "source": [
    "-```a``` = list all files including hidden files\n",
    "\n",
    "-```d``` = list only directories\n",
    "\n",
    "-```l``` = list contents in long format\n",
    "\n",
    "-```r``` = list contents in reverse order\n",
    "\n",
    "-```R``` = list all directories and subdirectories down to the last file\n",
    "\n",
    "-```s``` = list size of all contents in directory\n",
    "\n",
    "-```S``` = sorts listed contents by size\n",
    "\n",
    "-```t``` = sorts listed contents by last date modified\n",
    "\n",
    "-```X``` = sorts files by extension name"
   ]
  },
  {
   "cell_type": "markdown",
   "id": "8a994c52-48ff-49fe-aa81-27cb4d4ade0b",
   "metadata": {},
   "source": [
    "We can also use these flags with one another to list out precisely what we want. For example, let's say we want the long format of our files in reverse order in the ~/unix_intro/data/all_samples directory. We would run:"
   ]
  },
  {
   "cell_type": "code",
   "execution_count": null,
   "id": "5b993da1-8c0d-431a-b6eb-533b2220f3a5",
   "metadata": {},
   "outputs": [],
   "source": [
    "ls -lr /home/jovyan/unix_intro/data/all_samples/"
   ]
  },
  {
   "cell_type": "markdown",
   "id": "2106e0a4-3143-4c6c-98dc-4fd167edc1f3",
   "metadata": {},
   "source": [
    "We can see this this output is different from our first output, as we have also listed the long format output in reverse order. "
   ]
  },
  {
   "cell_type": "markdown",
   "id": "2edbc0bf-c74f-45d8-a66d-8c850ca77ed4",
   "metadata": {},
   "source": [
    "Let's say we want to see everything we have in our ~/unix_intro directory, including all directories, files, and subfiles. I also want to see any hidden files/directories that I can't see in GUI. We would run:"
   ]
  },
  {
   "cell_type": "code",
   "execution_count": null,
   "id": "4ab895e1-45a0-42ea-b25c-18425bd104d9",
   "metadata": {},
   "outputs": [],
   "source": [
    "ls -Ra ~/unix_intro"
   ]
  },
  {
   "cell_type": "markdown",
   "id": "d2615858-85ef-4ebb-abb8-a17aa029b1ef",
   "metadata": {},
   "source": [
    "#### Using *wildcards*\n",
    "Wildcards are special characters that act as placeholders in searches or commands. They're like the \"Joker\" or \"wild card\" in a deck of playing cards - they can represent any other character or set of characters.\n",
    "\n",
    "##### Types of Wildcards\n",
    "There are two main types of wildcards:\n",
    "\n",
    "* Asterisk (*): Represents any number of characters, including none14.\n",
    "\n",
    "* Question mark (?): Represents exactly one character14.\n",
    "\n",
    "##### Real-world Analogy\n",
    "Imagine you're looking for a book in a library, but you can't remember the exact title. Wildcards are like using partial information to find what you need:\n",
    "\n",
    "* If you remember the book title starts with \"The Wild\", you could search for \"The Wild*\" to find all books beginning with those words.\n",
    "\n",
    "* If you're not sure about one letter in a word, like \"b?g\", it could match \"bag\", \"big\", or \"bug\".\n",
    "\n",
    "##### Practical Examples\n",
    "To make it more concrete, you can use examples with file names:\n",
    "\n",
    "* \"document*.txt\" would match \"document1.txt\", \"document_draft.txt\", etc.\n",
    "\n",
    "* \"file?.csv\" would match \"file1.csv\", \"file2.csv\", but not \"file10.csv\"16.\n",
    "\n",
    "##### Benefits of Using Wildcards\n",
    "\n",
    "* Search for files more efficiently\n",
    "\n",
    "* Perform actions on multiple files at once\n",
    "\n",
    "* Work with files even when you don't know their exact names"
   ]
  },
  {
   "cell_type": "markdown",
   "id": "b0f69639-19a1-4cde-be72-5af6177bcc21",
   "metadata": {},
   "source": [
    "So let's say you are in the ~/all_samples directory. There are **.fq**, **.tsv**, and **.txt** files here. I only want to list out **.txt** files. I would run:"
   ]
  },
  {
   "cell_type": "code",
   "execution_count": null,
   "id": "762dc040-3ded-47c6-bd9e-b9f4cbe00cb0",
   "metadata": {},
   "outputs": [],
   "source": [
    "ls /home/jovyan/unix_intro/data/all_samples/*.txt"
   ]
  },
  {
   "cell_type": "markdown",
   "id": "9f59aeec-a912-4c18-9c44-462f975f00ef",
   "metadata": {},
   "source": [
    "I personally don't use the '?' as lot, but let's say I wanted to see all of the file types **.tsv**, but I could not remember what the second letter was (.t?v). We would run:"
   ]
  },
  {
   "cell_type": "code",
   "execution_count": null,
   "id": "55cca99b-206f-4a7b-bb78-8bbc9dbb7dfc",
   "metadata": {},
   "outputs": [],
   "source": [
    "ls /home/jovyan/unix_intro/data/all_samples/*.t?v"
   ]
  },
  {
   "cell_type": "markdown",
   "id": "66f97704-25bb-4d8f-8a14-90d3604d9bd2",
   "metadata": {},
   "source": [
    "Now we see all of the .tsv files."
   ]
  },
  {
   "cell_type": "markdown",
   "id": "2df0ab49-9e6e-47da-b155-9f26f9f9822a",
   "metadata": {},
   "source": [
    "##### Are we getting the hang of ```command argument``` syntax? You guys are doing great! Let's move on to some more commands that I find useful!"
   ]
  },
  {
   "cell_type": "markdown",
   "id": "9f835299-ef57-460b-a027-614432e9ca8e",
   "metadata": {},
   "source": [
    "### Making new directories  ```mkdir```"
   ]
  },
  {
   "cell_type": "markdown",
   "id": "c487f2f3-93f0-4856-bfa6-a05bb4f3b969",
   "metadata": {},
   "source": [
    "The ```mkdir``` command is used to create new directories or folders in a file system. Here are the key points about ```mkdir```:\n",
    "\n",
    "#### Basic Usage\n",
    "\n",
    "Let's say I want to create a single directory in my current working directory. I want you guys to be able to see this, so let's first set our working directory to ~/home/jovyan.\n"
   ]
  },
  {
   "cell_type": "code",
   "execution_count": 1,
   "id": "89cf60d3-14fa-4820-8a34-f26cf9cda285",
   "metadata": {},
   "outputs": [
    {
     "name": "stdout",
     "output_type": "stream",
     "text": [
      "/home/jovyan\n"
     ]
    }
   ],
   "source": [
    "cd /home/jovyan/"
   ]
  },
  {
   "cell_type": "markdown",
   "id": "1681480f-10f0-4f1f-a34a-a5a3718c88e5",
   "metadata": {},
   "source": [
    "...and create a new directory here called \"Rachel_new_directory\""
   ]
  },
  {
   "cell_type": "code",
   "execution_count": 2,
   "id": "ee5c591f-0f7d-4780-9aa1-753281e52eb9",
   "metadata": {},
   "outputs": [],
   "source": [
    "mkdir Rachel_new_directory"
   ]
  },
  {
   "cell_type": "markdown",
   "id": "86a75c58-c69b-40ef-a43d-188ef7cb894c",
   "metadata": {},
   "source": [
    "This creates a new directory called \"Rachel_new_directory\" in your current working directory (if you don't see it right away, hit the refresh button right below the \"Kernel\" menu option).\n",
    "\n",
    "#### Creating Multiple Directories\n",
    "\n",
    "You can create multiple directories at once by separating names with spaces:"
   ]
  },
  {
   "cell_type": "code",
   "execution_count": 3,
   "id": "40690050-b7b0-460d-8409-42f2ae2661e2",
   "metadata": {},
   "outputs": [],
   "source": [
    "mkdir dir1 dir2 dir3"
   ]
  },
  {
   "cell_type": "markdown",
   "id": "84a23b33-91e3-41fe-816f-462181169687",
   "metadata": {},
   "source": [
    "This creates three new directories simultaneously: **dir1**, **dir2**, and **dir3**."
   ]
  },
  {
   "cell_type": "markdown",
   "id": "c0805b90-c402-4f86-b5fb-7e4aaafa0161",
   "metadata": {},
   "source": [
    "#### Creating nested directories\n",
    "\n",
    "We can also create nested directories. Think of these as creating folders inside of other folders, except we are making all of them at the same time. \n",
    "\n",
    "So let's say we want to make a new directory called **parent**. Inside that folder, I also want a directory called **child**. Inside the child directory, I want another directory called **grandchild**. I would run:"
   ]
  },
  {
   "cell_type": "code",
   "execution_count": 4,
   "id": "c2c6be46-6ca5-4c19-b430-3ff84151efe5",
   "metadata": {},
   "outputs": [],
   "source": [
    "mkdir -p parent/child/grandchild"
   ]
  },
  {
   "cell_type": "markdown",
   "id": "1610c37a-7f60-4448-b2fc-8e19dcb35a2b",
   "metadata": {},
   "source": [
    "This creates the entire directory structure even if \"parent\" and \"child\" don't exist yet. "
   ]
  },
  {
   "cell_type": "markdown",
   "id": "ca805ba3-2fcd-436b-a5a4-241ce90c422b",
   "metadata": {},
   "source": [
    "We can also make a single directory with multiple subdirectories. This is almost like nested directories, except we aren't making an entire directory structure.\n",
    "So let's say we want to make a new directory called **Project**. Inside that folder, I also want to make 3 other folders called **reads1**, **reads2**, and **reads3**. I want to put these in the *~/unix_intro/data* folder. We would first change our working directory, then make the directories and subdirectories:"
   ]
  },
  {
   "cell_type": "code",
   "execution_count": 8,
   "id": "3a5b4fa7-785f-4522-8ece-677494224fbb",
   "metadata": {},
   "outputs": [
    {
     "name": "stdout",
     "output_type": "stream",
     "text": [
      "/home/jovyan/unix_intro/data\n"
     ]
    }
   ],
   "source": [
    "cd /home/jovyan/unix_intro/data"
   ]
  },
  {
   "cell_type": "code",
   "execution_count": 9,
   "id": "f46239f9-0753-4c80-972f-fc7d1c1f77e0",
   "metadata": {},
   "outputs": [],
   "source": [
    "mkdir -p Project/{reads1,reads2,reads3}"
   ]
  },
  {
   "cell_type": "markdown",
   "id": "1383522b-2de2-48b1-b478-ade4bf30cec1",
   "metadata": {},
   "source": [
    "Go check to make sure you've made all of your new directories!\n",
    "\n",
    "Now that we have all of these new folders to play with, let's practice moving them around!"
   ]
  },
  {
   "cell_type": "markdown",
   "id": "19fa3491-f90d-4525-8084-56e1d3ac6811",
   "metadata": {},
   "source": [
    "### Moving/Renaming files and directories  ```mv```"
   ]
  },
  {
   "cell_type": "markdown",
   "id": "9c1680b3-f233-41c6-8259-5f45dfd99fba",
   "metadata": {},
   "source": [
    "#### Basic Usage\n",
    "\n",
    "The basic syntax for the ```mv``` command is:\n",
    "\n",
    "```mv [options] source destination```"
   ]
  },
  {
   "cell_type": "markdown",
   "id": "b56b59db-8462-4939-92be-90e6438ababc",
   "metadata": {},
   "source": [
    "where ```source``` is the file/directory to move or rename, and ```destination``` is the new name or location."
   ]
  },
  {
   "cell_type": "markdown",
   "id": "d5829812-90a5-4329-96d8-793e4f7d20ef",
   "metadata": {},
   "source": [
    "The ```mv``` command has two main functions. It can be used to move files and directories to new directories and it can also be used to rename files and directories. Let's start with moving files between directories.\n",
    "\n",
    "\n",
    "##### Moving files and directories\n",
    "\n",
    "Let's say I want to move **dir1** to **Rachel_new_directory**. To do that, we would simply run: "
   ]
  },
  {
   "cell_type": "code",
   "execution_count": 11,
   "id": "5707b1f3-9c5d-421d-b149-055947167f45",
   "metadata": {},
   "outputs": [
    {
     "name": "stdout",
     "output_type": "stream",
     "text": [
      "/home/jovyan\n"
     ]
    }
   ],
   "source": [
    "cd /home/jovyan/"
   ]
  },
  {
   "cell_type": "markdown",
   "id": "96b49c62-bae2-4342-a055-9cdabeeac3f3",
   "metadata": {},
   "source": [
    "to move back to the the **jovyan** directory, then:"
   ]
  },
  {
   "cell_type": "code",
   "execution_count": 12,
   "id": "3964e8f5-1eac-4cb8-a422-95b870a77f4d",
   "metadata": {},
   "outputs": [],
   "source": [
    "mv dir1 Rachel_new_directory"
   ]
  },
  {
   "cell_type": "markdown",
   "id": "5023d244-d359-4cf8-ba3d-ae1da1a4c0b4",
   "metadata": {},
   "source": [
    "to move **dir1** into **Rachel_new_directory**.\n",
    "\n",
    "Did it work? Go check via GUI!\n",
    "\n",
    "Now, instead of moving one directory into another directory, lets move a file into a directory. I am going to demonstrate using the **dog_pics** directory and subdirectories.\n",
    "\n",
    "In the **dog_pics** directory, I have three subdirectories: **mickey**, **jimmy**, and **claude**. Each directory has pictures. I want you to take a minute to explore the directory via GUI, that way you can see what we are about to do.\n",
    "\n",
    "Let's move a picture of Mickey (file) to the **dog_pics** directory:"
   ]
  },
  {
   "cell_type": "code",
   "execution_count": 13,
   "id": "fe074337-5502-4758-81bc-37d95730bff4",
   "metadata": {},
   "outputs": [
    {
     "name": "stdout",
     "output_type": "stream",
     "text": [
      "/home/jovyan/dog_pics\n"
     ]
    }
   ],
   "source": [
    "cd /home/jovyan/dog_pics/"
   ]
  },
  {
   "cell_type": "code",
   "execution_count": 17,
   "id": "16e47021-3474-4fc3-b833-6e03bfcd9c7c",
   "metadata": {},
   "outputs": [],
   "source": [
    "mv ~/dog_pics/mickey/mickey1.JPG ~/dog_pics/"
   ]
  },
  {
   "cell_type": "markdown",
   "id": "e144247f-4568-4aa4-a500-e58a6ac2095f",
   "metadata": {},
   "source": [
    "In this line of code, we are saying *move the **mickey1.JPG** file in the **mickey** directory back one to the **dog_pics** parent directory*. Double check to make sure the file (picture) moved!\n",
    "\n",
    "Okay, now let's move it back. To do that, we just switch the syntax around."
   ]
  },
  {
   "cell_type": "code",
   "execution_count": 18,
   "id": "eadec3d3-d9df-4430-a47f-1d89aa57cae8",
   "metadata": {},
   "outputs": [],
   "source": [
    "mv ~/dog_pics/mickey1.JPG ~/dog_pics/mickey/"
   ]
  },
  {
   "cell_type": "markdown",
   "id": "623e05ad-84a5-470e-9689-9646b8c3bfb5",
   "metadata": {},
   "source": [
    "Okay, so what if we wanted to move multiple files at once? We have two options here. Let's use pictures from the **claude** directory for an example. \n",
    "\n",
    "Let's move **claude1.PNG** and **claude2.JPG** back to the **dog_pics** parent directory:"
   ]
  },
  {
   "cell_type": "code",
   "execution_count": 19,
   "id": "d1b061b8-cdeb-4489-8d58-f530c5a8b8b6",
   "metadata": {},
   "outputs": [],
   "source": [
    "mv ~/dog_pics/claude/claude1.PNG ~/dog_pics/claude/claude2.JPG ~/dog_pics/"
   ]
  },
  {
   "cell_type": "markdown",
   "id": "650f704a-a37b-46bb-b12f-a733501704f7",
   "metadata": {},
   "source": [
    "Let's move them back!"
   ]
  },
  {
   "cell_type": "code",
   "execution_count": 21,
   "id": "7d5f50dd-4405-47be-a158-3ddb1ccc2b39",
   "metadata": {},
   "outputs": [],
   "source": [
    "mv ~/dog_pics/claude1.PNG ~/dog_pics/claude2.JPG ~/dog_pics/claude"
   ]
  },
  {
   "cell_type": "markdown",
   "id": "5a2b6ad6-8df2-42aa-a381-bf38c65252ce",
   "metadata": {},
   "source": [
    "We can also use the ***wildcard*** to move multiple files at once:"
   ]
  },
  {
   "cell_type": "code",
   "execution_count": 22,
   "id": "1890fb08-7070-4d8b-bf19-5c7ae207da1e",
   "metadata": {},
   "outputs": [],
   "source": [
    "mv ~/dog_pics/claude/*.JPG ~/dog_pics/"
   ]
  },
  {
   "cell_type": "markdown",
   "id": "e755f474-ac10-4c2c-8905-ac515e2ba4f1",
   "metadata": {},
   "source": [
    "This will move all of the .JPG files from the **claude** directory back into the parent **dog_pics** directory. I am going to move these back now:"
   ]
  },
  {
   "cell_type": "code",
   "execution_count": 24,
   "id": "65c1b76c-6266-48a8-bc96-1e289ca969cf",
   "metadata": {},
   "outputs": [],
   "source": [
    "mv ~/dog_pics/*.JPG ~/dog_pics/claude/"
   ]
  },
  {
   "cell_type": "markdown",
   "id": "ba3c170b-6c14-44dc-a1bb-31e706fbd83b",
   "metadata": {},
   "source": [
    "##### Renaming files and directories\n",
    "\n",
    "Let's say I want to rename the **jimmy** directory to **mickey_2**. To do that, we would simply run: "
   ]
  },
  {
   "cell_type": "code",
   "execution_count": 25,
   "id": "e59545e9-48de-4a4e-aa48-af0c1a71e225",
   "metadata": {},
   "outputs": [
    {
     "name": "stdout",
     "output_type": "stream",
     "text": [
      "/home/jovyan/dog_pics\n"
     ]
    }
   ],
   "source": [
    "cd ~/dog_pics/"
   ]
  },
  {
   "cell_type": "code",
   "execution_count": 26,
   "id": "7fb1e558-d1ad-4e0c-9949-013dfd184f6d",
   "metadata": {},
   "outputs": [],
   "source": [
    "mv jimmy mickey_2"
   ]
  },
  {
   "cell_type": "markdown",
   "id": "7685d47e-17e8-481b-8fb1-5eb8e19fdf01",
   "metadata": {},
   "source": [
    "Now let's rename it back to **jimmy**"
   ]
  },
  {
   "cell_type": "code",
   "execution_count": 27,
   "id": "f2e057d9-f1fc-453f-93bd-97a88ec9ae0b",
   "metadata": {},
   "outputs": [],
   "source": [
    "mv mickey_2 jimmy"
   ]
  },
  {
   "cell_type": "markdown",
   "id": "374806d3-76fa-4727-b5f5-2ffcef82183d",
   "metadata": {},
   "source": [
    "And so it would be the same syntax for renaming files. Let's move into the **mickey** directory and name these files with more specific names. "
   ]
  },
  {
   "cell_type": "code",
   "execution_count": 29,
   "id": "42dbee4b-a769-4564-a9a6-519d8958548c",
   "metadata": {},
   "outputs": [
    {
     "name": "stdout",
     "output_type": "stream",
     "text": [
      "/home/jovyan/dog_pics/mickey\n"
     ]
    }
   ],
   "source": [
    "cd ~/dog_pics/mickey/"
   ]
  },
  {
   "cell_type": "code",
   "execution_count": 33,
   "id": "7cefef94-7744-4c01-bff6-2ebfdc3d6fcc",
   "metadata": {},
   "outputs": [],
   "source": [
    "mv mickey1.JPG mickey_sleeping.JPG"
   ]
  },
  {
   "cell_type": "code",
   "execution_count": 31,
   "id": "d1734352-4e92-4bed-8498-623191e918a4",
   "metadata": {},
   "outputs": [],
   "source": [
    "mv mickey2.JPG mickey_swimming.JPG"
   ]
  },
  {
   "cell_type": "code",
   "execution_count": 32,
   "id": "e38068d5-b99d-4d34-b850-fcf6963126ea",
   "metadata": {},
   "outputs": [],
   "source": [
    "mv mickey4.JPG mickey_walking.JPG"
   ]
  },
  {
   "cell_type": "markdown",
   "id": "63febe58-d15d-4301-b3b9-9bb49924e3fc",
   "metadata": {},
   "source": [
    "Did it work? You should be able to see in GUI!"
   ]
  },
  {
   "cell_type": "markdown",
   "id": "afb9957a-299c-4438-be1e-12a5dd7def47",
   "metadata": {},
   "source": [
    "### Copy command - ```cp```\n",
    "Sometimes you need to copy a file into a new directory instead of moving the file entirely. To do this we use the cp command. This command works almost identical to the mv command, cp.\n",
    "\n",
    "#### Basic Usage\n",
    "\n",
    "The basic syntax for the ```cp``` command is:\n",
    "\n",
    "```cp [options] source destination```\n",
    "\n",
    "where ```source``` is the file/directory we are copying, and ```destination``` is the location we are copying to.\n",
    "\n",
    "We can copy both files and whole directories with the ```cp``` command.\n",
    "\n",
    "#### Copying file(s)"
   ]
  },
  {
   "cell_type": "markdown",
   "id": "bb864630-db93-4ad8-b721-810da4018280",
   "metadata": {},
   "source": [
    "Let's say I want to copy **jimmy1.JPG** to the **mickey** directory. To do that, we would simply run: "
   ]
  },
  {
   "cell_type": "code",
   "execution_count": 1,
   "id": "2dda7ea1-f28d-48a6-83d5-740ddc4f66f4",
   "metadata": {},
   "outputs": [
    {
     "name": "stdout",
     "output_type": "stream",
     "text": [
      "cp: /Users/rachelhoward/dog_pics/jimmy/jimmy1.JPG: No such file or directory\n"
     ]
    }
   ],
   "source": [
    "cp ~/dog_pics/jimmy/jimmy1.JPG ~/dog_pics/mickey"
   ]
  },
  {
   "cell_type": "markdown",
   "id": "d98f89fc-0ce9-4916-a5fa-51ef85c4419e",
   "metadata": {},
   "source": [
    "And instead of moving the file, it will just copy it over, so now you have two files!"
   ]
  },
  {
   "cell_type": "markdown",
   "id": "4ec4019b-b87c-4bac-a24d-a194edafce3c",
   "metadata": {},
   "source": [
    "#### Copying directories\n",
    "\n",
    "We can also use the ```cp``` command to copy over entire directories. The basic syntax for this is:\n",
    "```cp -R source_directory/ destination_directory/```\n",
    "\n",
    "Let's try moving the **claude** directory into the **mickey** directory. "
   ]
  },
  {
   "cell_type": "code",
   "execution_count": 2,
   "id": "ba13edda-3428-429a-9009-18f9caab61eb",
   "metadata": {},
   "outputs": [
    {
     "name": "stdout",
     "output_type": "stream",
     "text": [
      "cp: /Users/rachelhoward/dog_pics/claude/: No such file or directory\n"
     ]
    }
   ],
   "source": [
    "cp -R ~/dog_pics/claude/ ~/dog_pics/mickey"
   ]
  },
  {
   "cell_type": "markdown",
   "id": "7f03b328-5b11-44e6-a239-2fc489cecea9",
   "metadata": {},
   "source": []
  },
  {
   "cell_type": "markdown",
   "id": "95182d6d-0032-45a5-99df-b7cef68b0af1",
   "metadata": {},
   "source": []
  }
 ],
 "metadata": {
  "kernelspec": {
   "display_name": "Python 3 (ipykernel)",
   "language": "python",
   "name": "python3"
  },
  "language_info": {
   "codemirror_mode": {
    "name": "ipython",
    "version": 3
   },
   "file_extension": ".py",
   "mimetype": "text/x-python",
   "name": "python",
   "nbconvert_exporter": "python",
   "pygments_lexer": "ipython3",
   "version": "3.12.7"
  }
 },
 "nbformat": 4,
 "nbformat_minor": 5
}
