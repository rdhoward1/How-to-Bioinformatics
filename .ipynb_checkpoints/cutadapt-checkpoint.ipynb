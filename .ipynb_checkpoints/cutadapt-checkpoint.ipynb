{
 "cells": [
  {
   "cell_type": "markdown",
   "id": "80b02f49-8521-4d79-a9d6-83938df88b02",
   "metadata": {},
   "source": [
    "## Removing primers/adapters: Cutadapt\n",
    "Cutadapt is a tool for removing adapter sequences, primers, and poly-A tails from DNA sequencing data. Sequencing data is often delivered to you with the adapters from the sequencing center and with the primers you used during PCR amplification. When it is ready for you to analyze, you must first remove all Illumina adapters and primers that may be in your sequencing reads, and this is where cutadapt comes in. "
   ]
  },
  {
   "cell_type": "markdown",
   "id": "50cc88c0-82f2-4b72-9ce5-61fbfe82950d",
   "metadata": {},
   "source": [
    "### Using Cutadapt\n",
    "To run cutadapt, you will first need to make sure that you have the module installed into your Miniforge/Python environment. To do this, we will run this line of code in our terminal after logging into our HPC:"
   ]
  },
  {
   "cell_type": "code",
   "execution_count": null,
   "id": "001337af-1f57-4ef6-8fc3-8c1ef674b2b9",
   "metadata": {},
   "outputs": [],
   "source": [
    "conda install bioconda::cutadapt"
   ]
  },
  {
   "cell_type": "markdown",
   "id": "af9803b6-48c9-4ec5-bef5-dce4e5580746",
   "metadata": {},
   "source": [
    "From here, you will need to adjust your cutadapt SLURM script for your own requirements. This includes adjusting your SLURM directives to specify job requirements and resource allocation, **AND** your adapter/primer sequences (dependant on what kind of sequencing you use and the region you amplify). A cutadapt script for 16S reads tagged with V4 primers and sequenced with Illumina will look something like this:"
   ]
  },
  {
   "cell_type": "code",
   "execution_count": null,
   "id": "13e09bd5-8e61-4324-bc45-c6d818198a1a",
   "metadata": {},
   "outputs": [],
   "source": [
    "#!/bin/bash\n",
    "#SBATCH --job-name=cutadapt_%j\n",
    "#SBATCH --output=cutadapt_%j.log\n",
    "#SBATCH --error=cutadapt_%j.err\n",
    "#SBATCH --mail-type=BEGIN,END,FAIL\n",
    "#SBATCH --mail-user=<your_txstate_id>@txstate.edu\n",
    "#SBATCH --partition=shared\n",
    "#SBATCH --nodes=1\n",
    "#SBATCH --mem-per-cpu=60gb\n",
    "#SBATCH --time=24:0:0\n",
    "\n",
    "\n",
    "####### DO NOT USE CAPITAL Rs IN SAMPLE NAMES----RENAME WITH r (R1 & R2 exceptions)\n",
    "\n",
    "########### Cutadapt: remove illumina adapters and primers\n",
    "\n",
    "# see manual for options: http://cutadapt.readthedocs.io/en/stable/guide.html\n",
    "# illumina adapters:\n",
    "# -a AGATCGGAAGAGCACACGTCTGAACTCCAGTCAC -A AGATCGGAAGAGCGTCGTGTAGGGAAAGAGTGTAGATCTCGGTGGTCGCCGTATCATT \n",
    "# V4 primers:\n",
    "# -a GGACTACNVGGGTWTCTAAT -g GTGYCAGCMGCCGCGGTAA\n",
    "\n",
    "# make directory for cutadapt output files\n",
    "mkdir cutadapt\n",
    "\n",
    "module load cutadapt\n",
    "cutadapt --version\n",
    "\n",
    "# create file names for cutadapt\n",
    "files_cut=`ls | grep \"R1_001.fastq.gz\"`\n",
    "\n",
    "# use loop to run cutadapt function on all original pairs; send output to cutadapt folder\n",
    "for R1 in $files_cut\n",
    "do\n",
    "  \tR1_cut=`echo $R1 | cut -d R -f1`R1_cut.fastq.gz\n",
    "        R2=`echo $R1 | cut -d R -f1`R2_001.fastq.gz\n",
    "        R2_cut=`echo $R1 | cut -d R -f1`R2_cut.fastq.gz\n",
    "        cutadapt -a AGATCGGAAGAGCACACGTCTGAACTCCAGTCAC \\\n",
    "         -A AGATCGGAAGAGCGTCGTGTAGGGAAAGAGTGTAGATCTCGGTGGTCGCCGTATCATT \\\n",
    "         -a GGACTACNVGGGTWTCTAAT \\\n",
    "         -g GTGYCAGCMGCCGCGGTAA \\\n",
    "         -n 4 \\\n",
    "         -o cutadapt/$R1_cut \\\n",
    "         -p cutadapt/$R2_cut \\\n",
    "         $R1 $R2\n",
    "done"
   ]
  },
  {
   "cell_type": "markdown",
   "id": "37e693be-8bf1-41d3-9e88-b7cfb6b64603",
   "metadata": {},
   "source": [
    "#### Let's go over each section of our SLURM script. \n",
    "1. At the beginning, we have our SLURM directives, which we can adjust depending on the the resources we need. For these samples, this is plent of resources. **Make sure you fill in your own email for the *mail_user* directive.**"
   ]
  },
  {
   "cell_type": "markdown",
   "id": "6192e905-402a-4735-a8ed-833fcc40acbc",
   "metadata": {},
   "source": [
    "2. You will create a cutadapt directory to store output files using the line: "
   ]
  },
  {
   "cell_type": "code",
   "execution_count": null,
   "id": "23518916-f9f6-4a7e-bb08-0958d7a033bd",
   "metadata": {},
   "outputs": [],
   "source": [
    "mkdir cutadapt"
   ]
  },
  {
   "cell_type": "markdown",
   "id": "1b15c756-bd58-497b-8c0b-1a823b22bf74",
   "metadata": {},
   "source": [
    "3. You will load the cutadapt software from miniforge:"
   ]
  },
  {
   "cell_type": "code",
   "execution_count": null,
   "id": "0096c944-4e37-4332-934e-6000a762ce98",
   "metadata": {},
   "outputs": [],
   "source": [
    "module load cutadapt"
   ]
  },
  {
   "cell_type": "markdown",
   "id": "d9c2bd2d-f069-4192-8c1c-ceb9f302d88c",
   "metadata": {},
   "source": [
    "4. You will print the version of cutadapt you use to your log file. This is extremely important for reproducibility: "
   ]
  },
  {
   "cell_type": "code",
   "execution_count": null,
   "id": "63aaf5d8-4356-4487-871c-c2570bd48408",
   "metadata": {},
   "outputs": [],
   "source": [
    "cutadapt --version"
   ]
  },
  {
   "cell_type": "markdown",
   "id": "cb4006f2-7405-4651-b5c8-90d4a469be6e",
   "metadata": {},
   "source": [
    "5. You will then create a list of input files ending with R1_001.fastq.gz (forward reads). The reason we don't make a list for our R2 (reverse) reads is because cutadapt will assume a paired-end naming convention where R1=forward, R2=reverse:"
   ]
  },
  {
   "cell_type": "code",
   "execution_count": null,
   "id": "41e23f4d-90fc-4955-81c6-1dc665e454bf",
   "metadata": {},
   "outputs": [],
   "source": [
    "files_cut=`ls | grep \"R1_001.fastq.gz\"`"
   ]
  },
  {
   "cell_type": "markdown",
   "id": "cbcf97a1-1006-4cf7-8be2-66b5036d20b7",
   "metadata": {},
   "source": [
    "Sequence read files ending with ```\"R1(R2)_001.fastq.gz\"``` are standard in sequencing data, and therefore this will likely not change. However it is ALWAYS important to double check your own data. "
   ]
  },
  {
   "cell_type": "markdown",
   "id": "62e16cfe-f065-46a3-9e5c-2c0453d41544",
   "metadata": {},
   "source": [
    "6. You will set up a ***for loop*** that iterates through each forward read file:"
   ]
  },
  {
   "cell_type": "code",
   "execution_count": null,
   "id": "51f8acc6-18a6-4e43-b608-f07869576349",
   "metadata": {},
   "outputs": [],
   "source": [
    "for R1 in $files_cut\n",
    "do"
   ]
  },
  {
   "cell_type": "markdown",
   "id": "09ccb72c-a54f-4e20-b886-a748acc25f16",
   "metadata": {},
   "source": [
    "What does this mean exactly?\n",
    "* The loop starts by iterating over each file in the variable $files_cut.\n",
    "* ```$files_cut``` contains a list of filenames (e.g., ```sample1_R1_001.fastq.gz```, ```sample2_R1_001.fastq.gz```) that match the pattern ```\"R1_001.fastq.gz\"```.\n",
    "* For each file, the variable ```R1``` temporarily holds the current filename."
   ]
  },
  {
   "cell_type": "markdown",
   "id": "51fc73cf-35c4-41a4-a0e1-a2ad1a46afc9",
   "metadata": {},
   "source": [
    "7. You will set up your output filename construction:"
   ]
  },
  {
   "cell_type": "code",
   "execution_count": null,
   "id": "4c610cf9-f58b-4015-99e2-86e3f18fa166",
   "metadata": {},
   "outputs": [],
   "source": [
    "R1_cut=`echo $R1 | cut -d R -f1`R1_cut.fastq.gz\n",
    "R2=`echo $R1 | cut -d R -f1`R2_001.fastq.gz\n",
    "R2_cut=`echo $R1 | cut -d R -f1`R2_cut.fastq.gz"
   ]
  },
  {
   "cell_type": "markdown",
   "id": "32aea0f3-4980-433c-845a-0a14ba500afe",
   "metadata": {},
   "source": [
    "Here, we are telling LEAP2 to create our output filenames by:\n",
    "* Truncating original filenames at first \"R\"\n",
    "* Appending _cut.fastq.gz\n",
    "* Finding matching reverse read (R2) files and doing the same to those files"
   ]
  },
  {
   "cell_type": "markdown",
   "id": "53f99172-ad2e-435e-be75-0d33807edf26",
   "metadata": {},
   "source": [
    "8. You will remove primers and adapters:"
   ]
  },
  {
   "cell_type": "code",
   "execution_count": null,
   "id": "d8d12f60-670f-4a8e-9e64-6cf01c0ca562",
   "metadata": {},
   "outputs": [],
   "source": [
    "cutadapt -a AGATCGGAAGAGCACACGTCTGAACTCCAGTCAC \\\n",
    "         -A AGATCGGAAGAGCGTCGTGTAGGGAAAGAGTGTAGATCTCGGTGGTCGCCGTATCATT \\\n",
    "         -a GGACTACNVGGGTWTCTAAT \\\n",
    "         -g GTGYCAGCMGCCGCGGTAA \\\n",
    "         -n 4 \\\n",
    "         -o cutadapt/$R1_cut \\\n",
    "         -p cutadapt/$R2_cut \\\n",
    "         $R1 $R2"
   ]
  },
  {
   "cell_type": "markdown",
   "id": "4bb5035a-f879-4439-86cf-d1db5c37ef1b",
   "metadata": {},
   "source": [
    "Let's take a closer look at the parameters we've specified here:\n",
    "* **Adapters Removed:**\n",
    "    * -a: Universal Illumina adapter (forward read 3' end)\n",
    "    * -A: Reverse read Illumina adapter (reverse read 3' end)\n",
    "    * -a: 3' primer sequence (common 806R primer for 16S rRNA gene)\n",
    "    * -g: 5' primer sequence (common 515F primer for 16S rRNA gene)\n",
    "* **Options:**\n",
    "    * -n 4: Removes up to 4 adapters per read\n",
    "    * -o/-p: Specifies output paths for forward/reverse reads\n",
    "    * Input files: Original R1 and R2 files\n",
    "\n"
   ]
  },
  {
   "cell_type": "markdown",
   "id": "b24e7321-8e79-49f8-b20f-4e0172f1ffce",
   "metadata": {},
   "source": [
    "You will need to place the .bash or .sh file with this script into your LEAP2 directory where your reads are. For me, I have named this script \"cutadapt.bash\", so I will put that file into my LEAP2 where my raw reads are located. Then, I can run the script from my command line using the ```sbatch``` command. "
   ]
  }
 ],
 "metadata": {
  "kernelspec": {
   "display_name": "Python 3 (ipykernel)",
   "language": "python",
   "name": "python3"
  },
  "language_info": {
   "codemirror_mode": {
    "name": "ipython",
    "version": 3
   },
   "file_extension": ".py",
   "mimetype": "text/x-python",
   "name": "python",
   "nbconvert_exporter": "python",
   "pygments_lexer": "ipython3",
   "version": "3.12.5"
  }
 },
 "nbformat": 4,
 "nbformat_minor": 5
}
