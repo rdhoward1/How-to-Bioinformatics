{
 "cells": [
  {
   "cell_type": "markdown",
   "id": "fc0d1f74-0311-4493-bcc3-64391d59736c",
   "metadata": {},
   "source": [
    "# An Intro to R & RStudio\n",
    "R is a programming language primarily designed for statistical computing, data analysis, and graphical visualization. Unlike Python or Java, R is a domain-specific language (DSL) optimized for statistics. Its syntax is array-oriented, and it emphasizes vectorized operations for efficiency.\n",
    "\n",
    "### **Key Features of R**\n",
    "- **Statistical \\& Data Analysis**: Built-in functions for linear/nonlinear modeling, hypothesis testing, clustering, time-series analysis, and more.\n",
    "- **Data Visualization**: Native support for high-quality plots (e.g., ggplot2 for publication-ready graphics)\n",
    "- **Extensibility**: Over 18,000+ packages (e.g., Bioconductor for bioinformatics, tidyverse for data wrangling).\n",
    "- **Interoperability**: Integrates with C/C++, Python, and SQL, and runs on Windows, macOS, and Linux.\n",
    "\n",
    "\n",
    "### **Common Use Cases**\n",
    "- **Bioinformatics**: DNA sequence analysis (Biostrings), RNA-seq (DESeq2).\n",
    "- **Machine Learning**: Predictive modeling (caret, randomForest).\n",
    "\n",
    "### **Ecosystem**\n",
    "- **RStudio**: Preferred IDE (Integrated Development Environment) with tools for debugging, package management, and Knitr for reproducible reports.\n",
    "- **CRAN \\& Bioconductor**: Central repositories for packages necessary to run your analyses.\n",
    "\n",
    "### This tutorial will introduce R and RStudio for bioinformatics, covering installation and basic syntax."
   ]
  },
  {
   "cell_type": "markdown",
   "id": "c49ecc9a-73f3-4a8e-830d-cc3d21ddab28",
   "metadata": {},
   "source": [
    "### Step 1: Install R & RStudio\n",
    "The first thing you're going to do is install R and RStudio from the internet:\n",
    "1. Download R from [CRAN](https://cran.r-project.org/) (choose your OS).\n",
    "2. Download RStudio (Desktop version) from [RStudio](https://posit.co/download/rstudio-desktop/).\n",
    "\n",
    "After you have these downloaded, go ahead and open up RStudio. Because RStudio is our IDE for R, we will be working in RStudio to conduct our analyses.\n",
    "\n",
    "#### Really quick, what is the difference between R and RStudio? Do we need both? Let's go over it. \n",
    "\n",
    "---\n",
    "\n",
    "##### 🧠 **R**: The Brain\n",
    "\n",
    "**R** is the actual programming language. It does all the heavy lifting behind the scenes—math, data analysis, creating plots, running code, and more.\n",
    "\n",
    "You can think of **R** as the engine of a car. It’s what makes everything go.\n",
    "\n",
    "When you install R, you’re installing this core language. Technically, you could write and run R code in a plain text editor or a terminal window... but it wouldn’t be very user-friendly.\n",
    "\n",
    "---\n",
    "\n",
    "##### 🖥️ **RStudio**: The Friendly Workspace\n",
    "\n",
    "**RStudio** is an **Integrated Development Environment (IDE)**—basically, a nice interface built *on top* of R to make your life easier.\n",
    "\n",
    "It gives you:\n",
    "- A **Console** to type and run code\n",
    "- A **Script editor** to write and save code files\n",
    "- A **Viewer** for plots and data tables\n",
    "- A **File pane** to browse your project folders\n",
    "- An **Environment pane** to see your variables and data\n",
    "\n",
    "RStudio doesn't replace R—it just gives you a better way to interact with it.\n",
    "\n",
    "---\n",
    "\n",
    "#### In Short:\n",
    "\n",
    "|              | **R**                          | **RStudio**                          |\n",
    "|--------------|--------------------------------|--------------------------------------|\n",
    "| What it is   | A programming language         | A program (IDE) to use R easily      |\n",
    "| Role         | The engine                     | The dashboard                        |\n",
    "| Required?    | Yes                             | Optional, but highly recommended     |\n",
    "| How they work| R does the work                | RStudio sends instructions to R      |\n",
    "\n",
    "---\n",
    "\n",
    "So you’ll need to install **R first**, and then install **RStudio** to get that helpful interface.\n",
    "\n",
    "### Let's talk about the layout of RStudio\n",
    "RStudio is a user-friendly interface designed to make working with the R programming language easier, especially for data analysis and bioinformatics. When you open RStudio, you’ll see that the window is divided into four main panels (or panes), each with a specific role:\n",
    "\n",
    "**1. Source (Script Editor) – Top Left**\n",
    "* Purpose: This is where you write, edit, and save your R scripts (code files), RMarkdown documents, or notes.\n",
    "* How to use: If you don’t see it at first, create a new script via the menu: File > New File > R Script. Code written here can be saved for future use.\n",
    "* Tip: Write your code here and use the \"Run\" button or Ctrl+Enter (Windows) / Cmd+Enter (Mac) to send a line or selection to the Console\n",
    "\n",
    "**2. Console – Bottom Left**\n",
    "* Purpose: This is where R executes your commands and displays the results. Think of it as R’s direct command line.\n",
    "* How to use: Type commands here for quick tests or exploration. Results appear immediately below your command.\n",
    "* Tip: Commands run here are not saved unless you copy them to a script\n",
    "\n",
    "**3. Environment/History – Top Right**\n",
    "* Environment Tab: Shows all the objects (variables, data frames, functions) you’ve created in your current session. You can see their names, types, and sometimes a preview of their contents.\n",
    "* History Tab: Keeps a record of all the commands you’ve run. You can reuse previous commands by clicking them.\n",
    "* Tip: You can remove objects from the environment here, or click on them to inspect their contents.\n",
    "\n",
    "**4. Files/Plots/Packages/Help/Viewer – Bottom Right**\n",
    "* Files: Browse your computer’s folders and files.\n",
    "* Plots: View any graphs or charts you create with R.\n",
    "* Packages: See which R packages are installed; load or update them here.\n",
    "* Help: Search for help on R functions and packages.\n",
    "* Viewer: View web content or HTML outputs generated by RMarkdown.\n",
    "* Tip: Click the tabs to switch between these tools as you work.\n",
    "\n",
    "This organized layout helps you write, run, and manage your R code efficiently as you learn bioinformatics or any data science task in RStudio."
   ]
  },
  {
   "cell_type": "markdown",
   "id": "118d247a-a190-4942-8f8a-01ff1d964feb",
   "metadata": {},
   "source": [
    "### Step 2: Basic Calculations\n",
    "At its most basic level, R functions like a powerful calculator, allowing you to perform standard arithmetic operations. Here are some examples. (Remember, we're working in the \"source\" pane—you can copy and paste these code blocks directly into it if you'd like.)"
   ]
  },
  {
   "cell_type": "code",
   "execution_count": null,
   "id": "9b0750f4-a14b-470f-a732-0e982547ecb0",
   "metadata": {},
   "outputs": [],
   "source": [
    "6 + 4\n",
    "6 / 2\n",
    "6 * 4\n",
    "6 ^ 4 "
   ]
  },
  {
   "cell_type": "markdown",
   "id": "c3636f88-9ebc-40e7-a0b4-cbd77a6c7c7b",
   "metadata": {},
   "source": [
    "The `[1]` you see to the left of the output is called an “index” number. We’ll explore its usefulness more later, but for now, just know that it indicates the position of the first item in each row of the output. Since we currently only have one row of output, it’s always showing `[1]`."
   ]
  },
  {
   "cell_type": "markdown",
   "id": "63524d89-369d-4f41-a223-c88821a84100",
   "metadata": {},
   "source": [
    "### Step 3: Basic R Syntax\n",
    "Let's go over some basic R syntax to get us started.\n",
    "\n",
    "All of the following code will be run in your source pane. \n",
    "\n",
    "To start. let's get help on a function/command. For example, here is how to see the help info for the function to see what our current working directory is in R:\n"
   ]
  },
  {
   "cell_type": "code",
   "execution_count": null,
   "id": "ff675642-e6fc-464c-a9f2-bdc88643dd8b",
   "metadata": {},
   "outputs": [],
   "source": [
    "?getwd"
   ]
  },
  {
   "cell_type": "markdown",
   "id": "3c7becee-3813-4e1d-88a8-cb018fd2c769",
   "metadata": {},
   "source": [
    "In the bottom right panel, you will see information and usage for this function. The same thing will happen if you write the `?getwd()` line of code and run it in the console. Try it out! "
   ]
  },
  {
   "cell_type": "markdown",
   "id": "8e6d313b-a5ca-458b-b84e-c9287bc7bb12",
   "metadata": {},
   "source": [
    "#### What is a variable?\n",
    "In R, most operations are performed on things stored in variables, which are called “objects.” Objects can hold different types of data, and the type of object—as well as the type of data it contains—affects what you can do with it. A variable in R is simply a name that refers to a storage location holding a value, such as a number, a piece of text (called a string), a vector, or more complex structures like data frames. Unlike some programming languages, R doesn’t require you to declare a variable ahead of time—it’s created automatically when you assign a value to it.\n",
    "\n",
    "##### So how do we assign a variable?\n",
    "We will use ```<-``` (preferred) or ```=``` to assign values to a variable. Let's look at an example below:"
   ]
  },
  {
   "cell_type": "code",
   "execution_count": null,
   "id": "bc55e405-150c-4b13-a035-b4bfcef1e10f",
   "metadata": {},
   "outputs": [],
   "source": [
    "x <- 6"
   ]
  },
  {
   "cell_type": "markdown",
   "id": "c7d299da-a853-4367-a6db-961a3cb8f713",
   "metadata": {},
   "source": [
    "After executing the command, our “environment” pane should now show this variable there.\n",
    "\n",
    "Now that we have the value “6” stored in the variable “x”, we can use the variable name in functions. Here’s some examples doing the same calculations we performed above, but now with our variable."
   ]
  },
  {
   "cell_type": "code",
   "execution_count": null,
   "id": "f30f1abf-fea7-46f9-9245-24f6e1c1e4e3",
   "metadata": {},
   "outputs": [],
   "source": [
    "x\n",
    "x + 4\n",
    "x / 2\n",
    "x * 4\n",
    "x ^ 4"
   ]
  },
  {
   "cell_type": "markdown",
   "id": "952e2d40-7850-4ef2-ab85-19002fde1dbf",
   "metadata": {},
   "source": [
    "We can also check what type of data is contained within this variable with the `class()` function:"
   ]
  },
  {
   "cell_type": "code",
   "execution_count": null,
   "id": "70fb0af4-5fe2-4b39-8999-3c9af53f39dc",
   "metadata": {},
   "outputs": [],
   "source": [
    "class(x)"
   ]
  },
  {
   "cell_type": "markdown",
   "id": "390c1888-94fd-4608-9d79-23bfb75b332f",
   "metadata": {},
   "source": [
    "And we find out it is of class “numeric”. Let’s try storing a different type, like a word:"
   ]
  },
  {
   "cell_type": "code",
   "execution_count": null,
   "id": "12ba4e88-e30c-4802-8308-7f3750fce664",
   "metadata": {},
   "outputs": [],
   "source": [
    "w <- \"books\" \n",
    "class(w)"
   ]
  },
  {
   "cell_type": "markdown",
   "id": "ff2758c1-34d7-490b-8aed-18d04d3c5c50",
   "metadata": {},
   "source": [
    "In this case, the class of the object is “character.” When working with character data (text), you need to use quotes—just like we did when setting the working directory earlier. If you leave out the quotes, R will assume you're referring to a variable with that name instead of treating it as plain text. This requirement doesn’t apply to numbers—for example, when we assigned the value 4 to the variable `x`, no quotes were needed. This is also why you can’t start a variable name with a number in R.\n",
    "\n",
    "We can also store multiple values in a single variable. In R, a one-dimensional object that holds multiple items is called a *vector*. To combine several items into one object, we use the `c()` function, which stands for “concatenate.” Here's an example of how to create a vector of numbers:"
   ]
  },
  {
   "cell_type": "code",
   "execution_count": null,
   "id": "ea8bbb2e-ac38-40ff-b484-a0124e2b8e8e",
   "metadata": {},
   "outputs": [],
   "source": [
    "y <- c(5, 6, 7)\n",
    "y\n",
    "class(y)"
   ]
  },
  {
   "cell_type": "markdown",
   "id": "ca70e56d-ae8c-4da3-8162-d626fa7ff0b9",
   "metadata": {},
   "source": [
    "Note that this is still of class “numeric” by checking with `class(y)`. It can be helpful to get used to actively being aware of what type of objects we are working with.\n",
    "\n",
    "Variables can also store tables of data. In this example, we’ll create another vector with three numbers and combine it with our previous vector to form what's called a *data frame*. (Don’t worry about memorizing all the terminology just yet—we’re just getting familiar with the concepts for now.) We’ll use the `data.frame()` function to do this and create a new variable called `our_table`."
   ]
  },
  {
   "cell_type": "code",
   "execution_count": null,
   "id": "e13cf98b-0ec1-4d60-a712-9672884d14c5",
   "metadata": {},
   "outputs": [],
   "source": [
    "z <- c(8, 9, 10)\n",
    "our_table <- data.frame(y, z)\n",
    "\n",
    "our_table\n",
    "\n",
    "class(our_table)"
   ]
  },
  {
   "cell_type": "markdown",
   "id": "10581f5a-8b86-4d4c-ac63-e7db39927e17",
   "metadata": {},
   "source": [
    "Data frames are two-dimensional objects made up of rows and columns. In this case, the `data.frame()` function took our two vectors and placed them into a table, with each vector becoming a column by default. R also has another table-like structure called a *matrix*, which is similar but not the same. Depending on what you're trying to do, you may need to convert between a data frame and a matrix. If you run into an error while working with tables, this is one of the first things to check.\n",
    "\n",
    "Let's try working with some practice genomic data:"
   ]
  },
  {
   "cell_type": "code",
   "execution_count": null,
   "id": "e67aaee6-19fa-4b6b-bf2e-0de69dc62c7e",
   "metadata": {},
   "outputs": [],
   "source": [
    "gene <- \"BRCA1\"  # Character,string variable\n",
    "count <- 42      # Numeric variable\n",
    "class(gene)\n",
    "class(count)"
   ]
  },
  {
   "cell_type": "markdown",
   "id": "ad97c3de-c302-40ac-84de-dfbd447c2fa5",
   "metadata": {},
   "source": [
    "What we've done here is create a variable called `gene` and stores the string \"`BRCA1`\" in it. So gene now holds the name of a gene — in this case, BRCA1, which is well known for its role in breast and ovarian cancer susceptibility.\n",
    "\n",
    "We've also created a variable called `count` and assigns it the numeric value `42`.\n",
    "\n",
    "Ultinmately, we are storing some pretty basic information:\n",
    "* A gene name in the variable `gene`\n",
    "* A numeric value in the variable `count`\n",
    "\n",
    "**You will see these variables in your environment panel!**\n",
    "\n",
    "Let's assign some other variables:"
   ]
  },
  {
   "cell_type": "code",
   "execution_count": null,
   "id": "65d04bf6-a936-4f22-a4e0-d1a9ae92d75c",
   "metadata": {},
   "outputs": [],
   "source": [
    "dna_sequence <- \"ATGCGTA\"  # Assign a DNA sequence  \n",
    "protein_sequence <- \"MADGKT\"  # Assign a protein sequence  \n",
    "print(dna_sequence)  # Output: \"ATGCGTA\"  "
   ]
  },
  {
   "cell_type": "markdown",
   "id": "725cc64d-9b4d-46db-b510-3fedfb7233ae",
   "metadata": {},
   "source": [
    "Here, we have done a few different things:\n",
    "1. Assigning a DNA sequence to a variable\n",
    "   * This creates a variable named `dna_sequence` and assigns it the string \"`ATGCGTA`\", which is a short segment of DNA (composed of the bases A, T, G, and C).\n",
    "2. Assigning a protein sequence to a variable\n",
    "   * This creates a variable called ```protein_sequence``` and stores the string \"`MADGKT`\" in it. This string represents a sequence of amino acids (each letter corresponds to a specific amino acid).\n",
    "3. Printing the DNA sequence\n",
    "   * The `print` command will output the data you've assigned to `dna_sequence`. In this case, `[1] \"ATGCGTA\"`. The [1] just indicates the first element of the output (since vectors are the base data structure in R)."
   ]
  },
  {
   "cell_type": "markdown",
   "id": "781de42c-2bea-49b7-a563-24f86dba0e5b",
   "metadata": {},
   "source": [
    "### Let's work with our practice data.\n",
    "\n",
    "First, let's download some data from our GitHub to work with. If you want to work on the Binder, the data is already there for you. If you want to work on your local computer, please download the `R_basics_temp` folder from our GitHub. \n",
    "\n",
    "##### **Now, let's set up our working directory.**\n",
    "Just like when using the command line or navigating files in a graphical user interface, it's important to know your current location within your computer's file system when working in R. The functions getwd() and setwd() help manage this. Most R commands follow a specific format: the function name is followed by parentheses. Any necessary inputs, called arguments, go inside the parentheses. For example, getwd() doesn't require any arguments—it simply tells you your current working directory."
   ]
  },
  {
   "cell_type": "code",
   "execution_count": null,
   "id": "a82997a0-d42e-4b64-8c00-19c611d6c31e",
   "metadata": {
    "scrolled": true
   },
   "outputs": [],
   "source": [
    "getwd()"
   ]
  },
  {
   "cell_type": "markdown",
   "id": "5081057c-a0ce-4ba7-b8ef-92189c63fc65",
   "metadata": {},
   "source": [
    "The pathname that prints out is your current working directory. If you want to change your working directory, we use the `setwd()` function in our source/console. "
   ]
  },
  {
   "cell_type": "code",
   "execution_count": null,
   "id": "5540828d-791f-48ef-ab74-311c17b67087",
   "metadata": {},
   "outputs": [],
   "source": [
    "setwd(\"~/Desktop/How-to-Bioinformatics/R_basics_temp\")"
   ]
  },
  {
   "cell_type": "code",
   "execution_count": null,
   "id": "a01cf8a4-807c-489a-99bb-1400e68f49bb",
   "metadata": {},
   "outputs": [],
   "source": [
    "getwd()"
   ]
  },
  {
   "cell_type": "markdown",
   "id": "f01291ac-9aaa-473b-aeef-bb1b033a41f2",
   "metadata": {},
   "source": [
    "Now we see that our working directory has been changed, and we are now in the working directory we're going to be using!\n",
    "\n",
    "In this tutorial, we will be using the \"gene_annotations.txt\" file. To get this table into R, we have to \"read it in\". You will often hear bioinformaticians refer to \"uploading\" data into R like this. One of the most common ways of reading tables into R is to use the `read.table()` function. To start, let’s try reading our “gene_annotations.txt” table into R with no arguments other than specifying the file name:"
   ]
  },
  {
   "cell_type": "code",
   "execution_count": null,
   "id": "18099d55-56a7-4a8a-9259-590b11ce7226",
   "metadata": {},
   "outputs": [],
   "source": [
    "gene_annotations_tab <- read.table(\"gene_annotations.txt\")"
   ]
  },
  {
   "cell_type": "markdown",
   "id": "ea7a5a79-c089-4599-8519-3764e352eaa0",
   "metadata": {},
   "source": [
    "We see that we've gptten an error message. Error messages in R can seem confusing at first, but over time, they often start to make more sense. In this case, the key part of the error is the message at the end: “line 1 did not have 22 elements.” If we check our table—either in the console or using the graphical viewer—we can see that it should have 8 columns. This suggests that R is having trouble correctly splitting each line into columns, likely due to formatting issues in the data.\n",
    "\n",
    "Let's investigate what the problem might be:"
   ]
  },
  {
   "cell_type": "code",
   "execution_count": null,
   "id": "8da04fbc-c690-445b-b834-4584c38a0a10",
   "metadata": {},
   "outputs": [],
   "source": [
    "?read.table()"
   ]
  },
  {
   "cell_type": "markdown",
   "id": "69bab2d4-a997-415f-8184-4c6ac6543cb2",
   "metadata": {},
   "source": [
    "The help file appears in the bottom right pane. If we scan through it looking for anything related to setting the delimiter, we’ll find the argument `sep`. By default, `sep` is set to split on *any* whitespace—which includes both tabs and spaces. But if we look at our `\"gene_annotations.txt\"` file, we can see that there are spaces within the KO and COG annotation columns.\n",
    "\n",
    "So what’s happening is that `read.table()` is treating every space as a column separator, which creates more columns than expected. Then it gives us an error saying, “Hey, the first line doesn’t have as many columns as the rest of the file!”—which is actually helpful, because it’s warning us that something’s not quite right with how the data is being read. Let’s try running the command again, but this time we’ll specify that the delimiter should be tabs only. In R, a tab character is written as a backslash followed by the letter \"t\", like this: `\\t`."
   ]
  },
  {
   "cell_type": "code",
   "execution_count": null,
   "id": "6f43225e-db54-45ad-a77e-605a060e72a8",
   "metadata": {},
   "outputs": [],
   "source": [
    "gene_annotations_tab <- read.table(\"gene_annotations.txt\", sep = \"\\t\")"
   ]
  },
  {
   "cell_type": "markdown",
   "id": "aa4b22f5-3702-4aff-8294-45550d6d75ca",
   "metadata": {},
   "source": [
    "We see that this works without any errors! However, when we take a look at it with the `head` function in R, we can see that upon reading in our data, R put our column names in the first row and created new column names (\"V1, V2, etc.). Let's see if we can fix that.\n",
    "\n",
    "If we take another look at the help menu for `read.table()` in the bottom right pane, we’ll see there’s an argument called `header`, which is set to `FALSE` by default. Since our file does have a header row, let’s try running the command again—this time specifying that `header = TRUE`."
   ]
  },
  {
   "cell_type": "code",
   "execution_count": null,
   "id": "111cbcff-4d46-44a1-89ef-2b1087c40c44",
   "metadata": {},
   "outputs": [],
   "source": [
    "gene_annotations_tab <- read.table(\"gene_annotations.txt\", sep = \"\\t\", header = TRUE)\n",
    "\n",
    "head(gene_annotations_tab)"
   ]
  },
  {
   "cell_type": "markdown",
   "id": "eae5f3ad-38a5-464d-9f54-45ae62f4e69c",
   "metadata": {},
   "source": [
    "There we go! It looks great. \n",
    "\n",
    "Now let's check our column names and the size/dimensions of our table!"
   ]
  },
  {
   "cell_type": "code",
   "execution_count": null,
   "id": "782c797a-97dd-49a2-bfdd-b0ced0a350b8",
   "metadata": {},
   "outputs": [],
   "source": [
    "colnames(gene_annotations_tab)\n",
    "\n",
    "dim(gene_annotations_tab)"
   ]
  },
  {
   "cell_type": "markdown",
   "id": "d9593e8a-65ca-4754-ad1a-607c392f86a8",
   "metadata": {},
   "source": [
    "So our table is 84,784 rows by 8 columns, which is great as that’s what we also see if we investigate this file in command line terminal (`wc -l gene_annotations.txt`).\n",
    "\n",
    "Now let’s create a new table so we can practice writing data to a file from R. You might have noticed that our “gene_annotations_tab.txt” table contains some **`NA`** values—these are special placeholders in R that represent missing data. In this case, they appear in the KEGG and COG annotation and ID columns for genes that weren't annotated.\n",
    "\n",
    "Let’s say we want to create a subset of the table that includes only the genes *with* KEGG annotations. The **`is.na()`** function in R is useful here—it checks whether each item in an object is **`NA`**. But since we’re interested in values that are *not* **`NA`**, we’ll use the **`!`** operator to reverse the result. "
   ]
  },
  {
   "cell_type": "code",
   "execution_count": null,
   "id": "819374ac-ca01-4180-824d-0224954e4d8e",
   "metadata": {},
   "outputs": [],
   "source": [
    "KEGG_only_tab <- gene_annotations_tab[!is.na(gene_annotations_tab$KO_ID), ]"
   ]
  },
  {
   "cell_type": "markdown",
   "id": "fa8f9d1c-5031-41d5-bd36-1d334d6e836d",
   "metadata": {},
   "source": [
    "##### Let's break down what we just did:\n",
    "\n",
    "- **`KEGG_only_tab`**  \n",
    "  This is the name of the new variable we’re creating. It will store the subset of our original table.\n",
    "\n",
    "- **`<-`**  \n",
    "  This is the *assignment operator* in R. It tells R to store the result of the expression on the right into the variable on the left.\n",
    "\n",
    "- **`gene_annotations_tab[!is.na(gene_annotations_tab$KO_ID), ]`**  \n",
    "  This is the subsetting operation. While it looks complex, it follows the same logic as our earlier examples—just applied to a full data frame.\n",
    "\n",
    "---\n",
    "\n",
    "##### Breaking Down the Subsetting:\n",
    "\n",
    "- **`gene_annotations_tab`**  \n",
    "  This is our original data frame.\n",
    "\n",
    "- **`[ ]`**  \n",
    "  Square brackets are used to subset data in R. Inside the brackets, we specify which *rows* and *columns* we want. These are separated by a comma: `[rows, columns]`.\n",
    "\n",
    "- **`!is.na(gene_annotations_tab$KO_ID)`**  \n",
    "  This is the first argument (before the comma), and it defines which rows we want.  \n",
    "  - `is.na()` checks for missing values (`NA`) in the `KO_ID` column.  \n",
    "  - `!` inverts the result, so we’re selecting only the rows where `KO_ID` is *not* `NA`.\n",
    "\n",
    "- **`,`**  \n",
    "  The comma separates the row condition from the column selection.\n",
    "\n",
    "- **(nothing after the comma)**  \n",
    "  When nothing is specified for the columns, R keeps *all* columns in the resulting subset.\n",
    "\n",
    "---\n",
    "\n",
    "Let's review how conditional statements return `TRUE` or `FALSE`—this logic is key to filtering data in R.\n",
    "\n",
    "In R, when you filter or subset data, you're basically asking a **yes or no** question about each row:  \n",
    "> “Should I keep this row?”\n",
    "\n",
    "R answers that question using **TRUE** (yes, keep it) or **FALSE** (no, skip it).\n",
    "\n",
    "For example, when we use something like this:\n",
    "\n",
    "```r\n",
    "!is.na(gene_annotations_tab$KO_ID)\n",
    "```\n",
    "\n",
    "We’re asking:  \n",
    "> “Is this value **not** missing?”\n",
    "\n",
    "R goes through the whole `KO_ID` column and checks each value. It returns something like:\n",
    "\n",
    "```r\n",
    "TRUE  TRUE  FALSE  TRUE ...\n",
    "```\n",
    "\n",
    "Then R uses those answers to decide which rows to keep.  \n",
    "Only the rows where the answer was **TRUE** will end up in your new table.\n",
    "\n",
    "So learning how these **TRUE/FALSE checks** work is really helpful—it’s the main way we filter and organize data in R!\n",
    "\n",
    "---\n",
    "\n",
    "I also want to mention the `!` operator really quick.\n",
    "\n",
    "The **`!`** symbol in R is a *logical NOT* operator. It’s used to reverse the result of a logical test—turning `TRUE` into `FALSE`, and `FALSE` into `TRUE`.\n",
    "\n",
    "For example, the function **`is.na()`** checks if a value is `NA` (missing), and returns `TRUE` for each item that *is* `NA`. But if we want to find the values that *aren’t* `NA`, we use **`!is.na()`**—this flips the `TRUE` and `FALSE` values, giving us `TRUE` only for the items that have actual values (i.e., not missing).\n",
    "\n",
    "Here’s a quick example:"
   ]
  },
  {
   "cell_type": "code",
   "execution_count": null,
   "id": "869d43da-a678-421e-92a8-daad0ec2251d",
   "metadata": {},
   "outputs": [],
   "source": [
    "x <- c(3, NA, 5)\n",
    "is.na(x)\n",
    "# [1] FALSE  TRUE FALSE\n",
    "\n",
    "!is.na(x)\n",
    "# [1]  TRUE FALSE  TRUE"
   ]
  },
  {
   "cell_type": "markdown",
   "id": "3ce0aabe-95af-4344-8902-9869a68029dd",
   "metadata": {},
   "source": [
    "So `!` just means “not”—it’s a simple way to reverse a condition.\n",
    "\n",
    "Since I am explaining the`!` operator, it’s a great idea to also include the `==` operator, since both are used in logical comparisons:\n",
    "\n",
    "---\n",
    "\n",
    "#### The `==` Operator: *“Is equal to?”*\n",
    "\n",
    "In R, `==` is used to **check if two things are equal**. It returns either `TRUE` or `FALSE`.\n",
    "\n",
    "Think of it as asking R:  \n",
    "> “Is this value exactly equal to that one?”\n",
    "\n",
    "##### Example:\n",
    "\n",
    "```r\n",
    "x <- 5\n",
    "x == 5  # This will return TRUE, because x is equal to 5\n",
    "x == 3  # This will return FALSE, because x is not equal to 3\n",
    "```\n",
    "\n",
    "> Note: A single equals sign `=` is used for assigning values (like `x = 5`), while `==` is used for *comparing* values.\n",
    "\n",
    "---\n",
    "\n",
    "#### The `!` Operator: *“Not”*\n",
    "\n",
    "The `!` operator is used to **reverse** a logical condition. It flips `TRUE` to `FALSE`, and `FALSE` to `TRUE`.\n",
    "\n",
    "Think of it as telling R:  \n",
    "> “Give me the opposite of this.”\n",
    "\n",
    "##### Example:\n",
    "\n",
    "```r\n",
    "x <- 5\n",
    "x == 5      # TRUE\n",
    "!(x == 5)   # FALSE — because we're asking if x is NOT equal to 5\n",
    "\n",
    "is.na(x)      # FALSE — because x is not missing\n",
    "!is.na(x)     # TRUE — meaning x *is* present (not NA)\n",
    "```\n",
    "\n",
    "---\n",
    "\n",
    "#### Using Them Together\n",
    "\n",
    "You’ll often see `==` and `!` used together in filtering data. For example:\n",
    "\n",
    "```r\n",
    "data[data$category == \"A\", ]     # keeps rows where category is \"A\"\n",
    "data[data$category != \"A\", ]     # keeps rows where category is NOT \"A\"\n",
    "```\n",
    "\n",
    "Here, `!=` is just a shortcut that combines `!` and `==`—it means “not equal to.”"
   ]
  },
  {
   "cell_type": "markdown",
   "id": "186b4d19-85c7-492a-87fa-45579a632708",
   "metadata": {},
   "source": [
    "Let's move on.\n",
    "\n",
    "If we peek at our new table with `head()`, we see all top 6 have KEGG annotations, where as before some where NA:"
   ]
  },
  {
   "cell_type": "code",
   "execution_count": null,
   "id": "1dbb99d9-c73d-4c01-a89f-6ee2ad520256",
   "metadata": {},
   "outputs": [],
   "source": [
    "head(KEGG_only_tab)"
   ]
  },
  {
   "cell_type": "markdown",
   "id": "fee525a1-fe7e-430f-a766-60023fdecf8d",
   "metadata": {},
   "source": [
    "And we can also look at how many genes we dropped that didn’t have a KEGG annotation assigned to them:"
   ]
  },
  {
   "cell_type": "code",
   "execution_count": null,
   "id": "19951b15-6d85-47eb-994b-4de5d9822188",
   "metadata": {},
   "outputs": [],
   "source": [
    "dim(gene_annotations_tab) # 84,784 genes\n",
    "dim(KEGG_only_tab) # 37,319 had KEGG annotations assigned"
   ]
  },
  {
   "cell_type": "markdown",
   "id": "aab1b571-0d42-4442-ac39-d2dec3ca1c8a",
   "metadata": {},
   "source": [
    "Now let’s save our new table—which includes only the genes that were annotated by KEGG—to a new tab-delimited file called **\"KEGG_annotated.tsv\"** (using the `.tsv` extension this time, which is more appropriate for tab-separated files).\n",
    "\n",
    "We can use the **`write.table()`** function to do this. If we take a quick look at the help menu using `?write.table`, we’ll see that by default it uses a space to separate columns. But since we want **tab-separated** values, we need to add the argument:\n",
    "\n",
    "```r\n",
    "sep = \"\\t\"\n",
    "```\n",
    "\n",
    "There are a couple more things we want to customize:\n",
    "- **We don’t want R to include row numbers** in our output file (those leftmost numbers), so we’ll add:\n",
    "  ```r\n",
    "  row.names = FALSE\n",
    "  ```\n",
    "- **We also don’t want quotation marks** around our text fields (like the annotation columns), so we’ll use:\n",
    "  ```r\n",
    "  quote = FALSE\n",
    "  ```\n",
    "\n",
    "How would we know to do all this the first time? Honestly, we wouldn’t! It’s totally normal to write out a file, look at it, decide something looks off, and then Google or check the help menu to figure out how to fix it. Even experienced R users do this all the time.\n",
    "\n",
    "So let’s use all these options in our command to write the file exactly how we want it."
   ]
  },
  {
   "cell_type": "code",
   "execution_count": null,
   "id": "6fa3a653-1cb9-4372-9d44-c5a9cdb66d53",
   "metadata": {},
   "outputs": [],
   "source": [
    "write.table(KEGG_only_tab, \"KEGG_annotated.tsv\", sep = \"\\t\", row.names = FALSE, quote = FALSE)\n",
    "list.files() # checking it is there now in our working directory"
   ]
  },
  {
   "cell_type": "markdown",
   "id": "eb52e9a6-b8b6-4b6d-8451-a0728816ad9f",
   "metadata": {},
   "source": [
    "---\n",
    "\n",
    "As mentioned earlier, it’s a good habit to **take a quick look at the output file** in the terminal while you're figuring out the right options for writing it. This helps you confirm that the file looks the way you expect.\n",
    "\n",
    "To do this, switch back to the **“Terminal” tab** in the bottom-left pane of RStudio, and then use the `less` command to view your new file without opening it in a separate program. For example:\n",
    "\n",
    "```bash\n",
    "less KEGG_annotated.tsv\n",
    "```\n",
    "\n",
    "This will let you scroll through the file and check if the formatting (like tabs, no quotes, no row numbers) looks correct.\n",
    "\n",
    "### Step 4: R Packages\n",
    "\n",
    "#### Installing and Using R Packages\n",
    "\n",
    "One of the most powerful things about **R** is its huge community of people who create and share **packages**. These packages are collections of pre-written code that make it easier to perform specific tasks in R. Packages can help you analyze data, create plots, or even interact with other software tools.\n",
    "\n",
    "To use a package, you first need to **install** it (if you haven’t already) and then **load** it into your R session. Let’s go over the three main ways to install packages in R.\n",
    "\n",
    "---\n",
    "\n",
    "##### 📚 **1. Installing Packages from CRAN with `install.packages()`**\n",
    "\n",
    "Most of the time, you can install a package from **CRAN** (the Comprehensive R Archive Network) using the **`install.packages()`** function. For example, if you want to install the popular **`tidyverse`** package, you would run:"
   ]
  },
  {
   "cell_type": "code",
   "execution_count": null,
   "id": "10df972f-5b85-4363-ba5d-f38128a60703",
   "metadata": {},
   "outputs": [],
   "source": [
    "install.packages(\"tidyverse\")"
   ]
  },
  {
   "cell_type": "markdown",
   "id": "23d1401c-0481-4791-848b-d424c862fc13",
   "metadata": {},
   "source": [
    "This will download and install the package. You’ll see some installation info printed in the console. Once it’s done, you can **load** the package into your session with the `library()` function:"
   ]
  },
  {
   "cell_type": "code",
   "execution_count": null,
   "id": "8dfd9c77-d890-42fe-b40d-2b23a0dad610",
   "metadata": {},
   "outputs": [],
   "source": [
    "library(\"tidyverse\")"
   ]
  },
  {
   "cell_type": "markdown",
   "id": "8723cc7a-3c9d-4f6e-bb95-8b3972c2c43f",
   "metadata": {},
   "source": [
    "#### What if a package isn't available?\n",
    "\n",
    "Sometimes, when you try to install a package with **`install.packages()`**, you might get a warning like this:\n",
    "\n",
    "```r\n",
    "install.packages(\"dada2\")\n",
    "Warning in install.packages:\n",
    "  package ‘dada2’ is not available for this version of R\n",
    "```\n",
    "\n",
    "Don’t worry! This just means that the package isn’t available for your version of R through CRAN. You can usually find alternative installation instructions by Googling the package name. For example, for **`dada2`**, you would search for “install dada2” and find that you need to use a different method (explained below).\n",
    "\n",
    "---\n",
    "\n",
    "##### 🧬 **2. Installing Packages from Bioconductor with `BiocManager::install()`**\n",
    "\n",
    "Some packages are hosted on **Bioconductor**, a repository for bioinformatics tools. To install packages from Bioconductor, you need to use **`BiocManager`**.\n",
    "\n",
    "1. First, install **`BiocManager`** if you haven’t already:"
   ]
  },
  {
   "cell_type": "code",
   "execution_count": null,
   "id": "d4809c99-4169-45ef-947b-422132e0ecca",
   "metadata": {},
   "outputs": [],
   "source": [
    "install.packages(\"BiocManager\")"
   ]
  },
  {
   "cell_type": "markdown",
   "id": "58409317-ef61-41bc-85c9-c3a17aba5a0e",
   "metadata": {},
   "source": [
    "2. Once **`BiocManager`** is installed, you can use it to install packages like **`dada2`** (which isn’t available on CRAN). For example:"
   ]
  },
  {
   "cell_type": "code",
   "execution_count": null,
   "id": "9842b3b6-aaab-40f9-a68d-64e0966c3744",
   "metadata": {},
   "outputs": [],
   "source": [
    "BiocManager::install(\"dada2\")"
   ]
  },
  {
   "cell_type": "markdown",
   "id": "e89653ec-8a50-4115-a150-fb774a7be886",
   "metadata": {},
   "source": [
    "---\n",
    "\n",
    "##### 🌐 **3. Installing Development Versions from GitHub with `devtools::install_github()`**\n",
    "\n",
    "Sometimes you might want to install a development version of a package directly from **GitHub**. This is useful if you want to get the latest version of a package (perhaps to fix a bug) before it’s officially released.\n",
    "\n",
    "1. First, install the **`devtools`** package if you don’t have it yet:"
   ]
  },
  {
   "cell_type": "code",
   "execution_count": null,
   "id": "964e08b3-4277-41c5-89d8-f864ac62ba1d",
   "metadata": {},
   "outputs": [],
   "source": [
    "install.packages(\"devtools\")"
   ]
  },
  {
   "cell_type": "markdown",
   "id": "0189e350-1115-4050-8c87-00ef6b16a0df",
   "metadata": {},
   "source": [
    "2. Then, use **`devtools::install_github()`** to install the package from GitHub. For example, to install the **`tidyr`** package from GitHub, you would run:"
   ]
  },
  {
   "cell_type": "code",
   "execution_count": null,
   "id": "3e8ba23c-f3b8-4ebc-9cb0-145e6b5718ba",
   "metadata": {},
   "outputs": [],
   "source": [
    "devtools::install_github(\"tidyverse/tidyr\")"
   ]
  },
  {
   "cell_type": "markdown",
   "id": "7491db69-8663-4c94-a2b0-36003779329b",
   "metadata": {},
   "source": [
    "3. After installation, you can load the package as usual:"
   ]
  },
  {
   "cell_type": "code",
   "execution_count": null,
   "id": "2bcab557-1f96-4a36-a199-75ba6ab0a9b3",
   "metadata": {},
   "outputs": [],
   "source": [
    "library(\"tidyr\")"
   ]
  },
  {
   "cell_type": "markdown",
   "id": "493d0f36-0334-4012-8da7-76bcbec02fcb",
   "metadata": {},
   "source": [
    "---\n",
    "\n",
    "##### 📝 **Best Practices for Installing Packages**\n",
    "\n",
    "- **Always follow the package’s installation instructions**: Many packages have specific requirements or steps for installation. Check the package documentation (usually available on CRAN, Bioconductor, or GitHub) for the recommended installation method.\n",
    "- **Start with `install.packages()`**, as it works for most packages available on CRAN.\n",
    "- If the package isn’t on CRAN or you get a warning, try **Bioconductor** with `BiocManager::install()`.\n",
    "- For the latest development version, you can try **GitHub** using `devtools::install_github()`.\n",
    "\n",
    "These are the most common ways to install packages in R, and following the package’s documentation is almost always the best approach.\n",
    "\n",
    "---"
   ]
  }
 ],
 "metadata": {
  "kernelspec": {
   "display_name": "R",
   "language": "R",
   "name": "ir"
  },
  "language_info": {
   "codemirror_mode": "r",
   "file_extension": ".r",
   "mimetype": "text/x-r-source",
   "name": "R",
   "pygments_lexer": "r",
   "version": "4.3.2"
  }
 },
 "nbformat": 4,
 "nbformat_minor": 5
}
