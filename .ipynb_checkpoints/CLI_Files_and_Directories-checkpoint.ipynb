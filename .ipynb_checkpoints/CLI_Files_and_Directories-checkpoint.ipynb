{
 "cells": [
  {
   "cell_type": "markdown",
   "id": "b2b4d5c7-826a-4848-9a08-3dfcf8778d4d",
   "metadata": {
    "panel-layout": {
     "height": 174.140625,
     "visible": true,
     "width": 100
    }
   },
   "source": [
    "# Working directly with files and directories via CLI\n",
    "\n",
    "I hope everyone is feeling more comfortable with coding and using the command-line interface! Now, let's explore how we can interact directly with plain text files, such as .txt, .tsv, and .csv, using the command line. This skill is especially valuable when working with genomic data, where you often need to count the number of FASTA sequences, inspect file contents, or even make quick edits. The command line provides powerful tools to accomplish all of these tasks efficiently—let’s dive in! \n",
    "\n",
    "**I want to note that many of these commands will not work on files that are not plain text. Some examples of common file types that are not plain-text files would be “.docx”, “.pdf”, or “.xlsx”. This is because those file formats contain special types of compression and formatting information that are only interpretable by programs specifically designed to work with them.**"
   ]
  },
  {
   "cell_type": "markdown",
   "id": "f1fb372e-f596-4c26-820f-03763f39aea7",
   "metadata": {},
   "source": [
    "### Viewing file contents\n",
    "Now that we are experts in navigating around our directories, let's make our way to the **unix_intro** folder. \n",
    "\n",
    "Say I want to see the entire contents of the ***example.txt*** file in our working directory? To do this, I would run the ```cat``` command, which will print and display the entire file content. Let's try it below:"
   ]
  },
  {
   "cell_type": "code",
   "execution_count": 1,
   "id": "44ed453a-b64a-4c03-843b-9f81da8056a2",
   "metadata": {},
   "outputs": [
    {
     "name": "stdout",
     "output_type": "stream",
     "text": [
      "cat: example.txt: No such file or directory\n"
     ]
    }
   ],
   "source": [
    "cat example.txt"
   ]
  },
  {
   "cell_type": "code",
   "execution_count": null,
   "id": "b0b65558-5eb8-4029-8f7b-3a66f1d2bb06",
   "metadata": {},
   "outputs": [],
   "source": []
  }
 ],
 "metadata": {
  "kernelspec": {
   "display_name": "Python 3 (ipykernel)",
   "language": "python",
   "name": "python3"
  },
  "language_info": {
   "codemirror_mode": {
    "name": "ipython",
    "version": 3
   },
   "file_extension": ".py",
   "mimetype": "text/x-python",
   "name": "python",
   "nbconvert_exporter": "python",
   "pygments_lexer": "ipython3",
   "version": "3.12.7"
  },
  "panel-cell-order": [
   "b2b4d5c7-826a-4848-9a08-3dfcf8778d4d"
  ]
 },
 "nbformat": 4,
 "nbformat_minor": 5
}
