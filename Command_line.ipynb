{
 "cells": [
  {
   "cell_type": "markdown",
   "id": "358ea6f9-9161-4d12-b878-21e2611890e6",
   "metadata": {},
   "source": [
    "# Getting started with the command line/terminal\n",
    "Command line is a powerful way to navigate and create files/directories. Here, I overview basic commands for navigating unix/linux systems from command line interface (CLI) as opposed to graphical user interfaces (GUIs). The commands can be run directly in this notebook by pressing the play button (sideways triangle) at the top of the page, or by clicking \"run selected cells\" under the run menu, or by pressing CTRL + ENTER for the selected cell.\n",
    "## Understanding Computer File Systems\n",
    "\n",
    "### Navigating your directories ```cd```,```pwd```\n",
    "\n",
    "Think of your computer's file system as a large library:\n",
    "\n",
    "1. **Files**: These are like individual books. Examples include \"metadata.csv\" or files ending with \".fasta\".\n",
    "\n",
    "2. **Directories (Folders)**: These are similar to shelves or sections in the library. For instance, a folder titled \"analysis\" on your Desktop.\n",
    "\n",
    "3. **Pathways**: These are like the directions to find a specific book in the library.\n",
    "\n",
    "### File System Structure\n",
    "\n",
    "Imagine your computer's storage as a tree:\n",
    "\n",
    "- The root (/) is the base of the tree.\n",
    "- Branches are directories (folders).\n",
    "- Leaves are files.\n",
    "\n",
    "Let's say:\n",
    "\n",
    "1. You have a folder called \"analysis\" on your Desktop.\n",
    "2. Inside this folder, you have:\n",
    "   - A file named \"metadata.csv\"\n",
    "   - Multiple files ending with \".fasta\"\n",
    "\n",
    "The pathway is like an address for files and folders:\n",
    "\n",
    "- Full pathway example: /Users/YourUsername/Desktop/analysis/\n",
    "- Shortcut notation: ~/Desktop/analysis/\n",
    "  (where ~ represents your home directory)\n",
    "\n",
    "### Navigating in Terminal\n",
    "\n",
    "When you open the terminal, it's like you've just entered the library. To work with your files:\n",
    "\n",
    "1. You need to tell the computer which \"shelf\" (directory) to look at.\n",
    "2. You do this by navigating to the correct pathway.\n",
    "3. Use commands like `cd` (change directory) to move to the right location.\n",
    "\n",
    "Let's try it out below.\n"
   ]
  },
  {
   "cell_type": "code",
   "execution_count": 1,
   "id": "e3668eb3-296c-4612-9e92-2775d8da5194",
   "metadata": {},
   "outputs": [
    {
     "name": "stdout",
     "output_type": "stream",
     "text": [
      "/Users/rachelhoward/Desktop/How-to-Bioinformatics/unix_intro\n"
     ]
    }
   ],
   "source": [
    "cd ~/Desktop/How-to-Bioinformatics/unix_intro/"
   ]
  },
  {
   "cell_type": "markdown",
   "id": "5ee381e5-2dd8-4418-9927-cba52ec19f60",
   "metadata": {},
   "source": [
    "This is equivalent to saying, \"Take me to the 'unix_intro' shelf in the folder 'How-to-Bioinformatics' on my Desktop.\"\n",
    "\n",
    "### The 'unix_intro' folder is now your *working directory*. **What is a working directory?**\n",
    "A working directory is the folder on a drive where you're actively storing and accessing data for a specific project or analysis. Think of it as the current location or folder your computer is focused on. \n",
    "\n",
    "How do we make sure that we are in the right directory? We can use the ```pwd``` command."
   ]
  },
  {
   "cell_type": "code",
   "execution_count": 2,
   "id": "3bc7f979-9cf9-455c-8162-e10931723fa3",
   "metadata": {},
   "outputs": [
    {
     "data": {
      "text/plain": [
       "'/Users/rachelhoward/Desktop/How-to-Bioinformatics/unix_intro'"
      ]
     },
     "execution_count": 2,
     "metadata": {},
     "output_type": "execute_result"
    }
   ],
   "source": [
    "pwd"
   ]
  },
  {
   "cell_type": "markdown",
   "id": "e31261ee-002e-46a8-8f3f-6038c5ba4237",
   "metadata": {},
   "source": [
    "You'll see that the **p**rint **w**orking **d**irectory command (```pwd```) gives us the entire pathway name for our working directory. "
   ]
  },
  {
   "cell_type": "markdown",
   "id": "8fd6372a-2794-4cf8-a2fb-25da06342457",
   "metadata": {},
   "source": [
    "**So what should we do if we want to go up one directory, or in this case, if we went to go back to the directory 'How-to-Bioinformatics'?**\n",
    "* ```cd ..``` change directory to parent directory:\n",
    "This command moves you up one level in the directory structure, to the parent directory. It's commonly used to navigate back to the previous directory level.\n",
    "For example, if you're in /home/user/documents, using ```cd ..``` will take you to /home/user\n",
    "Let's try it here:"
   ]
  },
  {
   "cell_type": "code",
   "execution_count": 3,
   "id": "194829c1-d64c-4f5f-a7d2-1a6b704313a2",
   "metadata": {},
   "outputs": [
    {
     "name": "stdout",
     "output_type": "stream",
     "text": [
      "/Users/rachelhoward/Desktop/How-to-Bioinformatics\n"
     ]
    }
   ],
   "source": [
    "cd .."
   ]
  },
  {
   "cell_type": "markdown",
   "id": "6d977963-e74a-4e03-9073-1a7c28135f8d",
   "metadata": {},
   "source": [
    "You'll see it has moved us back up to the parent directory. \n",
    "### Learning to navigate your files, directories, and pathways is the fundamental beginning to computer science and bioinformatics. You can't run code to manipulate your data if you can't get to where you're working!\n",
    "**Great job! You've nailed it! Let's look at some other commands to help navigate your files on the CLI.** "
   ]
  },
  {
   "cell_type": "markdown",
   "id": "990ea083-52bd-4259-b4f3-b37a6dd7cd03",
   "metadata": {},
   "source": [
    "### **L**i**s**ting the contents of my directories ```ls```\n",
    "The ```ls``` command, when used without any options, simply lists the files and directories in the current working directory. Normally this is in alphabetical order. Let's take a look with the 'How-to-Bioinformatics' directory. "
   ]
  },
  {
   "cell_type": "code",
   "execution_count": 4,
   "id": "7540ef59-9dbb-4659-a495-76b99cd0fb31",
   "metadata": {},
   "outputs": [
    {
     "data": {
      "text/plain": [
       "'/Users/rachelhoward/Desktop/How-to-Bioinformatics'"
      ]
     },
     "execution_count": 4,
     "metadata": {},
     "output_type": "execute_result"
    }
   ],
   "source": [
    "pwd"
   ]
  },
  {
   "cell_type": "code",
   "execution_count": 5,
   "id": "b67424ed-7adc-41f3-8920-45d841051e71",
   "metadata": {},
   "outputs": [
    {
     "name": "stdout",
     "output_type": "stream",
     "text": [
      "Command_line.ipynb  \u001b[34munix_intro\u001b[m\u001b[m/\n"
     ]
    }
   ],
   "source": [
    "ls"
   ]
  },
  {
   "cell_type": "markdown",
   "id": "dc86a10b-1838-4ebb-8dab-5d62077a36cd",
   "metadata": {},
   "source": [
    "Here, we are seeing that we have two items in our directory. One is this kernel that we are currently working in. The other is our 'unix_intro' directory. We can tell this is a directory because is has a root '/' next to it. \n",
    "Let's say I want to see the files inside my 'unix_intro' directory. We would run:"
   ]
  },
  {
   "cell_type": "code",
   "execution_count": 12,
   "id": "e9f93022-f81f-411a-ac19-f03a97a29374",
   "metadata": {},
   "outputs": [
    {
     "name": "stdout",
     "output_type": "stream",
     "text": [
      "/Users/rachelhoward/Desktop/How-to-Bioinformatics/unix_intro\n"
     ]
    }
   ],
   "source": [
    "cd ~/Desktop/How-to-Bioinformatics/unix_intro/"
   ]
  },
  {
   "cell_type": "code",
   "execution_count": 13,
   "id": "b793046b-3560-4c08-b90e-28db4f0434a2",
   "metadata": {},
   "outputs": [
    {
     "name": "stdout",
     "output_type": "stream",
     "text": [
      "\u001b[34mdata\u001b[m\u001b[m/         example.txt   \u001b[34mexperiment\u001b[m\u001b[m/   \u001b[34msix_commands\u001b[m\u001b[m/\n"
     ]
    }
   ],
   "source": [
    "ls"
   ]
  },
  {
   "cell_type": "markdown",
   "id": "c16f349b-ac20-46cb-aceb-d3f4d3975ea9",
   "metadata": {},
   "source": [
    "Let's take a look at what is in our 'six_commands' directory. "
   ]
  },
  {
   "cell_type": "code",
   "execution_count": 17,
   "id": "a705e9f2-168f-4c15-908f-4e23c6e818d7",
   "metadata": {},
   "outputs": [
    {
     "name": "stdout",
     "output_type": "stream",
     "text": [
      "/Users/rachelhoward/Desktop/How-to-Bioinformatics/unix_intro/six_commands\n"
     ]
    }
   ],
   "source": [
    "cd ~/Desktop/How-to-Bioinformatics/unix_intro/six_commands/"
   ]
  },
  {
   "cell_type": "code",
   "execution_count": 18,
   "id": "3464c4fe-9d79-4baa-920a-1b9763a546b3",
   "metadata": {},
   "outputs": [
    {
     "name": "stdout",
     "output_type": "stream",
     "text": [
      "blast_output.tsv                     gene_annotations.tsv\n",
      "colores.txt                          gene_annotations_excel_exported.tsv\n",
      "colors.txt                           genes_and_seqs.tsv\n",
      "example_gene_annotations.csv\n"
     ]
    }
   ],
   "source": [
    "ls"
   ]
  },
  {
   "cell_type": "markdown",
   "id": "775dbd29-b4fe-40fb-adc1-dd25124bdb7b",
   "metadata": {},
   "source": [
    "Awesome work! Now, the general syntax working at the command line goes like this: ```command argument```. When we use a ```command```, the following ```argument``` (which can also be referred to as “flags” or “options” or “parameters”) can be optional or required based on the command being used.\n",
    "\n",
    "**Let's try it with the ```ls``` command.**"
   ]
  },
  {
   "cell_type": "markdown",
   "id": "e9327778-f48b-4d26-bb88-5842a851f9a5",
   "metadata": {},
   "source": [
    "First, I want to make sure I'm in the correct working directory. For these purposes, I think being in the ~/six_commands/ directory is the best. "
   ]
  },
  {
   "cell_type": "code",
   "execution_count": 19,
   "id": "5c90786b-3c90-4f61-a63a-240762e90e10",
   "metadata": {},
   "outputs": [
    {
     "data": {
      "text/plain": [
       "'/Users/rachelhoward/Desktop/How-to-Bioinformatics/unix_intro/six_commands'"
      ]
     },
     "execution_count": 19,
     "metadata": {},
     "output_type": "execute_result"
    }
   ],
   "source": [
    "pwd"
   ]
  },
  {
   "cell_type": "markdown",
   "id": "b1b8d5d2-5e55-4dae-81ad-35dad002ca64",
   "metadata": {},
   "source": [
    "We are already here! Now let's say I want to look at my files with some more details, including content permissions, owner, group owner, size (in Bytes), date last modified, and name (we call this *long format*). To do this, we would run:"
   ]
  },
  {
   "cell_type": "code",
   "execution_count": 21,
   "id": "6b36d6c4-fc15-4598-af2f-0006961d49f9",
   "metadata": {},
   "outputs": [
    {
     "name": "stdout",
     "output_type": "stream",
     "text": [
      "total 192\n",
      "-rw-r--r--  1 rachelhoward  staff    348 Jun  8  2019 blast_output.tsv\n",
      "-rw-r--r--  1 rachelhoward  staff     51 Jun  8  2019 colores.txt\n",
      "-rw-r--r--@ 1 rachelhoward  staff     43 Jun  8  2019 colors.txt\n",
      "-rw-r--r--  1 rachelhoward  staff   4264 Jun  8  2019 example_gene_annotations.csv\n",
      "-rw-r--r--  1 rachelhoward  staff   4264 Jun  8  2019 gene_annotations.tsv\n",
      "-rw-r--r--  1 rachelhoward  staff  34275 Jun  8  2019 gene_annotations_excel_exported.tsv\n",
      "-rw-r--r--@ 1 rachelhoward  staff  30706 Jun  8  2019 genes_and_seqs.tsv\n"
     ]
    }
   ],
   "source": [
    "ls -l"
   ]
  },
  {
   "cell_type": "code",
   "execution_count": null,
   "id": "7f4208e9-a59f-4d46-9e03-499ddcfedda0",
   "metadata": {},
   "outputs": [],
   "source": []
  }
 ],
 "metadata": {
  "kernelspec": {
   "display_name": "Python 3 (ipykernel)",
   "language": "python",
   "name": "python3"
  },
  "language_info": {
   "codemirror_mode": {
    "name": "ipython",
    "version": 3
   },
   "file_extension": ".py",
   "mimetype": "text/x-python",
   "name": "python",
   "nbconvert_exporter": "python",
   "pygments_lexer": "ipython3",
   "version": "3.12.7"
  }
 },
 "nbformat": 4,
 "nbformat_minor": 5
}
