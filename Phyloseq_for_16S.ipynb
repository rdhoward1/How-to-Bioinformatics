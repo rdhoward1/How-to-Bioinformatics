{
 "cells": [
  {
   "cell_type": "markdown",
   "id": "6248693a-13bb-4a27-bd76-ea80854e5069",
   "metadata": {},
   "source": [
    "# Phyloseq"
   ]
  },
  {
   "cell_type": "markdown",
   "id": "4e7b9ff7-8e68-4f78-ac3d-ae6b3bef79f5",
   "metadata": {},
   "source": [
    "### **Phyloseq** is an R package designed for the analysis and visualization of microbiome census data, particularly high-throughput phylogenetic sequencing data such as 16S rRNA gene sequencing. It provides a unified framework to import, store, process, analyze, and graphically represent complex microbiome datasets. The package integrates multiple data types, including amplicon sequence variants (ASV), taxonomic assignments, phylogenetic trees, and sample metadata, into a single object for streamlined analysis."
   ]
  },
  {
   "cell_type": "markdown",
   "id": "3b9dfdb2-446a-4fce-b3b2-343c7eae062f",
   "metadata": {},
   "source": [
    "#### Key Features of Phyloseq:\n",
    "1. **Data Integration**: Combines OTU/ASV tables, taxonomic classifications, phylogenetic trees, and sample metadata into a single object for easy manipulation and analysis.\n",
    "2. **Analysis Tools**:\n",
    "    - Alpha diversity (e.g., richness and Shannon diversity).\n",
    "    - Beta diversity using ecological distance metrics and ordination methods (e.g., NMDS, PCA).\n",
    "    - Taxonomic composition analysis.\n",
    "3. **Visualization**: Produces publication-quality graphics using ggplot2 for bar plots, heatmaps, ordination plots, and more.\n",
    "4. **Compatibility**: Works with outputs from popular OTU (or ASV) clustering pipelines and integrates with other R packages for advanced statistical analyses.\n",
    "\n",
    "#### Applications:\n",
    "\n",
    "Phyloseq is widely used to study microbial communities in diverse environments such as human microbiomes, soil ecosystems, marine environments, and industrial settings. It simplifies the handling of complex datasets while enabling robust ecological and statistical analyses.\n"
   ]
  },
  {
   "cell_type": "markdown",
   "id": "af04e66d-2382-4739-9238-070c5e458fc3",
   "metadata": {},
   "source": [
    "### Let's get started (Note: this is all done in RStudio):"
   ]
  },
  {
   "cell_type": "markdown",
   "id": "db733cae-7331-4a3d-acca-d3c9f0f81f6c",
   "metadata": {},
   "source": [
    "#### **Step 1**: \n",
    "\n",
    "The first thing you have to do, ***as with any R package***, is the make sure you have the appropriate packages installed and loaded into your active R session. "
   ]
  },
  {
   "cell_type": "code",
   "execution_count": null,
   "id": "7f375b06-0a67-435b-9d46-e954bac41461",
   "metadata": {},
   "outputs": [],
   "source": [
    "## This installs the phyloseq package and it's dependencies (software components, libraries, or packages that another piece of software relies on to function correctly) to R\n",
    "install.packages(\"BiocManager\")\n",
    "BiocManager::install(\"phyloseq\")\n",
    "install.packages(c(\"tidyverse\", \"ggplot2\", \"dada2\"))"
   ]
  },
  {
   "cell_type": "code",
   "execution_count": null,
   "id": "14f5379f-a283-40b3-905f-52bf875e93d2",
   "metadata": {},
   "outputs": [],
   "source": [
    "## This loads the dada2 package in so that way it is active during our R session. You have to \"load your libraries\" EVERY TIME you open R. \n",
    "library(phyloseq)\n",
    "library(tidyverse)\n",
    "library(ggplot2)\n",
    "library(dad2) ## You should already have this loaded onto your R session. \n",
    "writeLines(capture.output(sessionInfo()), file.path(\"output\", \"sessionInfo.txt\")) ## This code is typically used in workflows or reports to record session details for reproducibility. By saving sessionInfo() output, others can replicate your analysis environment by knowing exactly which versions of R and packages were used. It will be named sessionInfo.txt in your working directory."
   ]
  },
  {
   "cell_type": "markdown",
   "id": "2a5e8671-8fda-445e-9223-53ba3f121e7c",
   "metadata": {},
   "source": [
    "#### **Step 2**: \n",
    "\n",
    "Now that we have the packages installed and running on our R session, we can start to organize our data in RStudio. We read are going to load in the ASV Table and Taxonomic Table into our session, along with our metadata:"
   ]
  },
  {
   "cell_type": "code",
   "execution_count": null,
   "id": "cd810844-82b1-464e-aa9c-e5dad6ecb36a",
   "metadata": {},
   "outputs": [],
   "source": [
    "## Load DADA2 outputs\n",
    "otu <- read.table(\"~/path/to/Ast_mixed_silva_otu_table.txt\",sep=\"\\t\",header=TRUE, row.names=1)\n",
    "taxon <- read.table(\"~/path/to/Ast_mixed_silva_taxa_table.txt\",sep=\"\\t\",header=TRUE,row.names=1)\n",
    "## Load metadata\n",
    "samples<-read.table(\"~/path/to/Ast_mixed_metadata.txt\",sep=\"\\t\",header=T,row.names=1)"
   ]
  },
  {
   "cell_type": "markdown",
   "id": "607a9176-3543-447a-98fc-999e1f1a1de6",
   "metadata": {},
   "source": [
    "#### **Step 2**: Create a Phyloseq Object"
   ]
  },
  {
   "cell_type": "markdown",
   "id": "140cb812-5e9a-4dee-aaa4-0e0aeac13389",
   "metadata": {},
   "source": [
    "Now that we have all of our data loaded in, we can make our phyloseq object.\n",
    "\n",
    "##### Wait, real quick: What is a phyloseq object?\n",
    "A phyloseq object is a specialized data structure in R used for storing and analyzing microbiome data, particularly high-throughput sequencing datasets like 16S rRNA gene sequencing. It combines multiple related data types into a single, coherent object, making it easier to manage and analyze complex microbiome datasets.\n",
    "\n",
    "A phyloseq object can integrate the following core data types:\n",
    "\n",
    "1. **OTU/ASV Table (`otu_table`)**:\n",
    "    - A matrix of operational taxonomic unit (OTU) or amplicon sequence variant (ASV) abundances across samples.\n",
    "    - Rows represent taxa (e.g., OTUs or ASVs), and columns represent samples (or vice versa).\n",
    "2. **Taxonomy Table (`tax_table`)**:\n",
    "    - A matrix describing the taxonomic classification of each OTU/ASV (e.g., Kingdom, Phylum, Genus).\n",
    "3. **Sample Data (`sample_data`)**:\n",
    "    - Metadata about the samples, such as environmental conditions, treatment groups, or collection dates.\n",
    "4. **Phylogenetic Tree (`phy_tree`)** (optional):\n",
    "    - A tree representing evolutionary relationships among OTUs/ASVs.\n",
    "5. **Reference Sequences (`refseq`)** (optional):\n",
    "    - DNA sequences corresponding to each OTU/ASV.\n",
    "\n",
    "Purpose and Advantages:\n",
    "\n",
    "- **Unified Data Storage**: All related data types are stored together in a single object.\n",
    "- **Data Consistency**: Ensures that all components (e.g., OTU table, taxonomy table) are aligned and describe the same set of samples and taxa.\n",
    "- **Ease of Analysis**: Simplifies downstream analyses like diversity estimation, ordination, and visualization by providing a consistent framework.\n",
    "- **Reproducibility**: Facilitates reproducible workflows by keeping all data in one place.\n",
    "\n",
    "##### Today, we will work with our ASV (OTU) table, our Taxonomy table, and our metadata.\n",
    "\n",
    "So, let's make our very first phyloseq object!"
   ]
  },
  {
   "cell_type": "code",
   "execution_count": null,
   "id": "b81ac69f-aab7-4541-813f-72c89e3a7b93",
   "metadata": {},
   "outputs": [],
   "source": [
    "OTU = otu_table(otu, taxa_are_rows=FALSE)\n",
    "taxon<-as.matrix(taxon)\n",
    "TAX = tax_table(taxon)\n",
    "sampledata = sample_data(samples)\n",
    "ps <- phyloseq(otu_table(otu, taxa_are_rows=FALSE), \n",
    "               sample_data(samples), \n",
    "               tax_table(taxon))"
   ]
  },
  {
   "cell_type": "markdown",
   "id": "9648001e-1177-4bca-b8de-4bf14a633246",
   "metadata": {},
   "source": [
    "This R code is creating a phyloseq object by combining three key data components: an OTU table, a taxonomy table, and sample metadata.\n",
    "\n",
    "We can inspect the phyloseq object just by running:"
   ]
  },
  {
   "cell_type": "code",
   "execution_count": null,
   "id": "6937bde5-c371-4720-ad0f-26262b969cb2",
   "metadata": {},
   "outputs": [],
   "source": [
    "ps"
   ]
  },
  {
   "cell_type": "markdown",
   "id": "8aef83e2-148a-4197-aa04-db2b5e907c55",
   "metadata": {},
   "source": [
    "Here is an example output when we run `ps`, inspecting a phyloseq object:"
   ]
  },
  {
   "cell_type": "markdown",
   "id": "ef761bd9-37e0-47bd-bbd2-c1dcee958412",
   "metadata": {},
   "source": [
    "```\n",
    "phyloseq-class experiment-level object\n",
    "otu_table()    OTU Table: [100 taxa and 20 samples]\n",
    "sample_data()  Sample Data: [20 samples by 5 variables]\n",
    "tax_table()    Taxonomy Table: [100 taxa by 6 taxonomic ranks]\n",
    "```"
   ]
  },
  {
   "cell_type": "markdown",
   "id": "4d8d452a-2501-4f33-b85e-af7db59ab0db",
   "metadata": {},
   "source": [
    "This indicates that:\n",
    "* There are 100 taxa (e.g., OTUs or ASVs) and 20 samples in the dataset.\n",
    "* The sample metadata has 5 variables (e.g., location, treatment).\n",
    "* The taxonomy table contains 6 levels of classification (e.g., Kingdom to Species)."
   ]
  },
  {
   "cell_type": "markdown",
   "id": "874ddd80-45dd-43fd-b363-567a47b56b84",
   "metadata": {},
   "source": [
    "Great work! Now, when we run this with our own data, we should see something that looks like this:\n",
    "\n",
    "```\n",
    "phyloseq-class experiment-level object\n",
    "otu_table()   OTU Table:         [ 8605 taxa and 20 samples ]\n",
    "sample_data() Sample Data:       [ 20 samples by 3 sample variables ]\n",
    "tax_table()   Taxonomy Table:    [ 8605 taxa by 13 taxonomic ranks ]\n",
    "```"
   ]
  },
  {
   "cell_type": "markdown",
   "id": "6341b25a-8256-49f2-a438-1f882397d372",
   "metadata": {},
   "source": [
    "So, we know that we have 8605 taxa (unique ASVs) in our 20 samples, and our metadata has three separate variables.  \n",
    "\n",
    "Sometimes in our data, we can have ASVs that have been classified as mitochondrian, chloroplasts, and even some eukaryota and NAs that slipped through. We have to get rid of those, as they are not biologically relevant to our study.\n",
    "\n",
    "The first thing we are going to do is just inspect how many unique taxa we have in a given group:"
   ]
  },
  {
   "cell_type": "code",
   "execution_count": null,
   "id": "4c92795c-64b2-4abb-8a14-848eedb67cdf",
   "metadata": {},
   "outputs": [],
   "source": [
    "get_taxa_unique(ps, \"Family\") #433\n",
    "get_taxa_unique(ps, \"Order\") #298\n",
    "get_taxa_unique(ps, \"Kingdom\") #4"
   ]
  },
  {
   "cell_type": "markdown",
   "id": "18fe8298-ba3c-442e-83d0-852f81ccaff3",
   "metadata": {},
   "source": [
    "You should see something like these numbers in your output. This is letting us know that we have 433 unique families represented in the dataset, 298 unique orders, and so on. \n",
    "\n",
    "Now, let's remove the mitochondria, chloroplasts, eukaryotes, and NAs that slipped through:"
   ]
  },
  {
   "cell_type": "code",
   "execution_count": null,
   "id": "d8ef3201-4cdc-468a-b223-5776692992de",
   "metadata": {},
   "outputs": [],
   "source": [
    "ps <- subset_taxa(ps, Family !=\"Mitochondria\")\n",
    "ps <- subset_taxa(ps, Order !=\"Chloroplast\")\n",
    "ps <- subset_taxa(ps, Kingdom !=\"Eukaryota\")\n",
    "ps <- subset_taxa(ps, Kingdom !=\"NA\")"
   ]
  },
  {
   "cell_type": "markdown",
   "id": "a5d7d8f8-3bed-48c0-8b91-f66d62bbc62a",
   "metadata": {},
   "source": [
    "Now let's check how many unique taxa we have in a group:"
   ]
  },
  {
   "cell_type": "code",
   "execution_count": null,
   "id": "874329a9-a90a-45e1-b15a-8a86999e9323",
   "metadata": {},
   "outputs": [],
   "source": [
    "get_taxa_unique(ps, \"Family\") #428\n",
    "get_taxa_unique(ps, \"Order\") #294\n",
    "get_taxa_unique(ps, \"Kingdom\") #2"
   ]
  },
  {
   "cell_type": "markdown",
   "id": "e78db11c-82c6-4ed5-a8b2-c037890b8e07",
   "metadata": {},
   "source": [
    "We see that when we re-check, we have removed some unique families, orders, and kingdoms that were ultimately classied as mitochondria, chloroplasts, eukaryotes, and NAs. \n",
    "\n",
    "When we inspect our phyloseq object again, "
   ]
  },
  {
   "cell_type": "code",
   "execution_count": null,
   "id": "0742ce02-7063-4bf1-9acb-03583a43f7ff",
   "metadata": {},
   "outputs": [],
   "source": [
    "ps"
   ]
  },
  {
   "cell_type": "markdown",
   "id": "e8c1e83c-9723-45cf-a476-b896baec4e99",
   "metadata": {},
   "source": [
    "It should look something like: \n",
    "```\n",
    "phyloseq-class experiment-level object\n",
    "otu_table()   OTU Table:         [ 7296 taxa and 20 samples ]\n",
    "sample_data() Sample Data:       [ 20 samples by 3 sample variables ]\n",
    "tax_table()   Taxonomy Table:    [ 7296 taxa by 13 taxonomic ranks ]\n",
    "```\n",
    "We know that we have successfully removed the mitochondria, chloroplasts, eukaryotes, and NAs from our phyloseq object because ultimately, the number of unique taxa goes down. "
   ]
  },
  {
   "cell_type": "markdown",
   "id": "0640592c-bf18-4cda-85ef-1c79224a5d84",
   "metadata": {},
   "source": [
    "#### **Step 3**: Basic Quality Control"
   ]
  },
  {
   "cell_type": "markdown",
   "id": "2a8496e8-3a1a-4d8f-b8a0-e9303c76a76e",
   "metadata": {},
   "source": [
    "A good rule of thumb is to only keep ASVs with a mean abundance greater than 5 across all samples. This is a way to remove very rare or low abundance ASVs. Let's take a look here:"
   ]
  },
  {
   "cell_type": "code",
   "execution_count": null,
   "id": "d4d806c4-118b-43d4-932e-f7355f02c897",
   "metadata": {},
   "outputs": [],
   "source": [
    "ntaxa(ps) #7296\n",
    "ps5<-filter_taxa(ps, function(x) mean(x) >5, TRUE)\n",
    "ntaxa(ps5) #1253\n",
    "get_taxa_unique(ps, \"Genus\") #720\n",
    "get_taxa_unique(ps5, \"Genus\") #317"
   ]
  },
  {
   "cell_type": "markdown",
   "id": "8dc62469-1f00-4354-b325-f569fc12f4a2",
   "metadata": {},
   "source": [
    "In summary, you're filtering out low-abundance ASVs, which reduces the number of ASVs from 7,296 to 1250, and the number of unique genera from 720 to 317. This filtering helps to focus on more abundant and potentially more reliable ASVs, reducing noise in your dataset.\n",
    "\n",
    "##### **It is IMPORTANT you pick your filtering parameters for your own data. Not every dataset is as rich as this one. I have had some datasets where I've just removed singletons (ASV that is represented by only one sequence across the entire dataset, keeping ASVs with a mean abundance greater than 1 across all samples). Pick the parameters that are best for YOUR data.** "
   ]
  },
  {
   "cell_type": "markdown",
   "id": "a5b9a584-f3c7-43fc-8c45-ff7799ec6dd3",
   "metadata": {},
   "source": [
    "#### Step 4: Data Normalization"
   ]
  },
  {
   "cell_type": "markdown",
   "id": "4b9df9a1-da43-4d59-80a2-52bbbad8dce3",
   "metadata": {},
   "source": [
    "In microbiome studies, we often normalize to the relative abundance of our taxa. Why?\n",
    "\n",
    "Microbiome datasets often have varying sequencing depths (i.e., different total read counts across samples). Without normalization, these differences can bias comparisons between samples. By converting to relative abundance:\n",
    "* Samples become comparable, regardless of their sequencing depth.\n",
    "* The analysis focuses on the proportions of taxa within each sample rather than raw counts.\n",
    "\n",
    "Let's try it:"
   ]
  },
  {
   "cell_type": "code",
   "execution_count": null,
   "id": "e6ad35a7-f144-4da9-9cf3-943b18ff7767",
   "metadata": {},
   "outputs": [],
   "source": [
    "ps_ra <- transform_sample_counts(ps5, function(x) x / sum(x))"
   ]
  },
  {
   "cell_type": "markdown",
   "id": "bc83d6cc-e68e-4411-9d1b-1daf5b7f8171",
   "metadata": {},
   "source": [
    "What the Code Does:\n",
    "1. `transform_sample_counts()` Function:\n",
    "    * This function applies a transformation to the count data in the OTU table of a phyloseq object (ps_filtered).\n",
    "    * It processes each sample independently, applying the specified function to the counts.\n",
    "2. Normalization Function:\n",
    "    * The function function(x) x / sum(x) divides each count (x) in a sample by the total sum of counts for that sample (sum(x)).\n",
    "    * This converts raw counts into proportions or relative abundances, where the sum of all taxa in a sample equals 1 (or 100% if expressed as percentages).\n",
    "3. Result:\n",
    "    * The new phyloseq object `ps_ra` contains normalized data, where OTU/ASV abundances are expressed as proportions relative to the total sequencing depth of each sample."
   ]
  },
  {
   "cell_type": "markdown",
   "id": "50b41c57-791b-49c6-ba23-3ec2029ddec8",
   "metadata": {},
   "source": [
    "Now that we have a phyloseq object that is normalized, we can make a couple of figures to showcase Alpha and Beta diversity, along with some taxonomy plots!"
   ]
  },
  {
   "cell_type": "markdown",
   "id": "3e0c0f00-8e82-432d-8a18-250c2333caaf",
   "metadata": {},
   "source": [
    "#### **Step 4**: Alpha & Beta Diversity"
   ]
  },
  {
   "cell_type": "markdown",
   "id": "704b8b0d-9cee-4eb5-9ee5-e68fb5bf0b6d",
   "metadata": {},
   "source": [
    "For the sake of quick visualization, let's work with our original phyloseq object, `ps`. \n",
    "\n",
    "Let's visualize the alpha diversity:"
   ]
  },
  {
   "cell_type": "code",
   "execution_count": null,
   "id": "e4fe0693-c46c-4914-91c3-f12a4dcaf21c",
   "metadata": {},
   "outputs": [],
   "source": [
    "plot_richness(ps, measures = c(\"Observed\", \"Shannon\")) +\n",
    "  geom_boxplot() +\n",
    "  theme_bw()"
   ]
  },
  {
   "cell_type": "markdown",
   "id": "95c5f4d8-4d75-41e2-a66e-241bb5f9f0dc",
   "metadata": {},
   "source": [
    "How about the beta diversity?"
   ]
  },
  {
   "cell_type": "code",
   "execution_count": null,
   "id": "4ac2e905-8f91-42d4-bc2f-a29c244cd46a",
   "metadata": {},
   "outputs": [],
   "source": [
    "# Ordination using PCoA\n",
    "ord <- ordinate(ps, method = \"PCoA\")\n",
    "plot_ordination(ps, ord, color = \"SymbiontState\") +\n",
    "  geom_point(size = 4)"
   ]
  },
  {
   "cell_type": "markdown",
   "id": "7cf3c4bc-9038-43da-ac3b-2914a049dc72",
   "metadata": {},
   "source": [
    "#### **Step 5**: Taxonomic Composition"
   ]
  },
  {
   "cell_type": "markdown",
   "id": "3d133879-c78c-43fb-8ae1-8340dab1989d",
   "metadata": {},
   "source": [
    "Let's visualize our phyla across our samples in a stacked bar chart:"
   ]
  },
  {
   "cell_type": "code",
   "execution_count": null,
   "id": "2aa146ad-79f6-44d7-a075-aac7fc0fc15b",
   "metadata": {},
   "outputs": [],
   "source": [
    "ps_phylum <- tax_glom(ps_ra, \"Phylum\")\n",
    "plot_bar(ps_phylum, fill = \"Phylum\") +\n",
    "  theme(legend.position = \"bottom\")"
   ]
  }
 ],
 "metadata": {
  "kernelspec": {
   "display_name": "Python 3 (ipykernel)",
   "language": "python",
   "name": "python3"
  },
  "language_info": {
   "codemirror_mode": {
    "name": "ipython",
    "version": 3
   },
   "file_extension": ".py",
   "mimetype": "text/x-python",
   "name": "python",
   "nbconvert_exporter": "python",
   "pygments_lexer": "ipython3",
   "version": "3.12.7"
  }
 },
 "nbformat": 4,
 "nbformat_minor": 5
}
